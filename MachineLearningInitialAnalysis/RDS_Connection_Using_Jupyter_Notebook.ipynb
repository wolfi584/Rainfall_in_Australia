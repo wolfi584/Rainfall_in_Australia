{
 "cells": [
  {
   "cell_type": "code",
   "execution_count": 20,
   "id": "4b240944",
   "metadata": {},
   "outputs": [],
   "source": [
    "\n",
    "import warnings\n",
    "warnings.filterwarnings('ignore')\n"
   ]
  },
  {
   "cell_type": "code",
   "execution_count": 21,
   "id": "a8e6aab4",
   "metadata": {},
   "outputs": [],
   "source": [
    "import pandas as pd\n",
    "import numpy as np\n",
    "import datetime as dt\n",
    "import missingno as msno\n",
    "\n",
    "from sqlalchemy import create_engine\n",
    "import psycopg2\n"
   ]
  },
  {
   "cell_type": "code",
   "execution_count": 22,
   "id": "44894aad",
   "metadata": {},
   "outputs": [],
   "source": [
    "PGHOST = 'rainfall.ckaepqnvzvpp.us-east-2.rds.amazonaws.com'\n",
    "PGDATABASE = 'Rainfall_In_Australia'\n",
    "PGUSER = 'postgres'\n",
    "PGPASSWORD = '123rainfall456!'"
   ]
  },
  {
   "cell_type": "code",
   "execution_count": 23,
   "id": "0485575b",
   "metadata": {},
   "outputs": [],
   "source": [
    "conn_string = \"host=\"+ PGHOST +\" port=\"+ \"5432\" +\" dbname=\"+ PGDATABASE +\" user=\" + PGUSER \\\n",
    "                  +\" password=\"+ PGPASSWORD\n",
    "    \n",
    "conn = psycopg2.connect(conn_string)"
   ]
  },
  {
   "cell_type": "code",
   "execution_count": 24,
   "id": "210d89f2",
   "metadata": {},
   "outputs": [],
   "source": [
    "cur = conn.cursor()"
   ]
  },
  {
   "cell_type": "code",
   "execution_count": 25,
   "id": "93810593",
   "metadata": {},
   "outputs": [],
   "source": [
    "#cur.execute(\"SELECT * FROM cities_aus\")\n",
    "#record = cur.fetchall()"
   ]
  },
  {
   "cell_type": "code",
   "execution_count": 26,
   "id": "98eb7f97",
   "metadata": {},
   "outputs": [],
   "source": [
    "#for i in record:\n",
    "#    print(i[0] + '\\t' + i[1])"
   ]
  },
  {
   "cell_type": "code",
   "execution_count": 28,
   "id": "3bbb01f3",
   "metadata": {},
   "outputs": [
    {
     "data": {
      "text/html": [
       "<div>\n",
       "<style scoped>\n",
       "    .dataframe tbody tr th:only-of-type {\n",
       "        vertical-align: middle;\n",
       "    }\n",
       "\n",
       "    .dataframe tbody tr th {\n",
       "        vertical-align: top;\n",
       "    }\n",
       "\n",
       "    .dataframe thead th {\n",
       "        text-align: right;\n",
       "    }\n",
       "</style>\n",
       "<table border=\"1\" class=\"dataframe\">\n",
       "  <thead>\n",
       "    <tr style=\"text-align: right;\">\n",
       "      <th></th>\n",
       "      <th>location</th>\n",
       "      <th>state</th>\n",
       "      <th>country</th>\n",
       "      <th>latitude</th>\n",
       "      <th>longitide</th>\n",
       "      <th>population</th>\n",
       "      <th>timezone</th>\n",
       "    </tr>\n",
       "  </thead>\n",
       "  <tbody>\n",
       "    <tr>\n",
       "      <th>0</th>\n",
       "      <td>Albury</td>\n",
       "      <td>New South Wales</td>\n",
       "      <td>Australia</td>\n",
       "      <td>-36.0808</td>\n",
       "      <td>146.9165</td>\n",
       "      <td>47,974</td>\n",
       "      <td>AUS Eastern Standard Time</td>\n",
       "    </tr>\n",
       "    <tr>\n",
       "      <th>1</th>\n",
       "      <td>BadgerysCreek</td>\n",
       "      <td>New South Wales</td>\n",
       "      <td>Australia</td>\n",
       "      <td>-33.8796</td>\n",
       "      <td>150.7523</td>\n",
       "      <td>225</td>\n",
       "      <td>AUS Eastern Standard Time</td>\n",
       "    </tr>\n",
       "    <tr>\n",
       "      <th>2</th>\n",
       "      <td>Cobar</td>\n",
       "      <td>New South Wales</td>\n",
       "      <td>Australia</td>\n",
       "      <td>-31.4980</td>\n",
       "      <td>145.8383</td>\n",
       "      <td>3,990</td>\n",
       "      <td>AUS Eastern Standard Time</td>\n",
       "    </tr>\n",
       "    <tr>\n",
       "      <th>3</th>\n",
       "      <td>CoffsHarbour</td>\n",
       "      <td>New South Wales</td>\n",
       "      <td>Australia</td>\n",
       "      <td>-30.3022</td>\n",
       "      <td>153.1189</td>\n",
       "      <td>71,822</td>\n",
       "      <td>AUS Eastern Standard Time</td>\n",
       "    </tr>\n",
       "    <tr>\n",
       "      <th>4</th>\n",
       "      <td>Moree</td>\n",
       "      <td>New South Wales</td>\n",
       "      <td>Australia</td>\n",
       "      <td>-29.4635</td>\n",
       "      <td>149.8417</td>\n",
       "      <td>7,383</td>\n",
       "      <td>AUS Eastern Standard Time</td>\n",
       "    </tr>\n",
       "  </tbody>\n",
       "</table>\n",
       "</div>"
      ],
      "text/plain": [
       "        location            state    country  latitude  longitide population  \\\n",
       "0         Albury  New South Wales  Australia  -36.0808   146.9165     47,974   \n",
       "1  BadgerysCreek  New South Wales  Australia  -33.8796   150.7523        225   \n",
       "2          Cobar  New South Wales  Australia  -31.4980   145.8383      3,990   \n",
       "3   CoffsHarbour  New South Wales  Australia  -30.3022   153.1189     71,822   \n",
       "4          Moree  New South Wales  Australia  -29.4635   149.8417      7,383   \n",
       "\n",
       "                    timezone  \n",
       "0  AUS Eastern Standard Time  \n",
       "1  AUS Eastern Standard Time  \n",
       "2  AUS Eastern Standard Time  \n",
       "3  AUS Eastern Standard Time  \n",
       "4  AUS Eastern Standard Time  "
      ]
     },
     "execution_count": 28,
     "metadata": {},
     "output_type": "execute_result"
    }
   ],
   "source": [
    "df = pd.read_sql_query('SELECT * FROM cities_aus', conn)\n",
    "#pd.read_sql_query('SELECT * FROM cities_aus',conn=engine)\n",
    "df.head()"
   ]
  },
  {
   "cell_type": "code",
   "execution_count": null,
   "id": "aaf6d0c0",
   "metadata": {},
   "outputs": [],
   "source": []
  }
 ],
 "metadata": {
  "kernelspec": {
   "display_name": "mlenv",
   "language": "python",
   "name": "mlenv"
  },
  "language_info": {
   "codemirror_mode": {
    "name": "ipython",
    "version": 3
   },
   "file_extension": ".py",
   "mimetype": "text/x-python",
   "name": "python",
   "nbconvert_exporter": "python",
   "pygments_lexer": "ipython3",
   "version": "3.7.10"
  }
 },
 "nbformat": 4,
 "nbformat_minor": 5
}
