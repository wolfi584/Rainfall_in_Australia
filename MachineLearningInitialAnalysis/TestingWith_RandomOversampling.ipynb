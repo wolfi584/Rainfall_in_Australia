{
 "cells": [
  {
   "cell_type": "code",
   "execution_count": 32,
   "id": "8363462f",
   "metadata": {},
   "outputs": [],
   "source": [
    "import warnings\n",
    "warnings.filterwarnings('ignore')"
   ]
  },
  {
   "cell_type": "code",
   "execution_count": 33,
   "id": "22d7fd6e",
   "metadata": {},
   "outputs": [],
   "source": [
    "import numpy as np\n",
    "import pandas as pd\n",
    "import datetime as dt\n",
    "import config as cfg\n",
    "\n",
    "from sqlalchemy import create_engine\n",
    "import psycopg2\n",
    "\n",
    "from sklearn.model_selection import train_test_split\n",
    "from sklearn.metrics import balanced_accuracy_score\n",
    "from sklearn.metrics import confusion_matrix\n",
    "from imblearn.metrics import classification_report_imbalanced"
   ]
  },
  {
   "cell_type": "markdown",
   "id": "99cb7d71",
   "metadata": {},
   "source": [
    "## Import Data from Postgre"
   ]
  },
  {
   "cell_type": "code",
   "execution_count": 34,
   "id": "528c8883",
   "metadata": {},
   "outputs": [
    {
     "data": {
      "text/html": [
       "<div>\n",
       "<style scoped>\n",
       "    .dataframe tbody tr th:only-of-type {\n",
       "        vertical-align: middle;\n",
       "    }\n",
       "\n",
       "    .dataframe tbody tr th {\n",
       "        vertical-align: top;\n",
       "    }\n",
       "\n",
       "    .dataframe thead th {\n",
       "        text-align: right;\n",
       "    }\n",
       "</style>\n",
       "<table border=\"1\" class=\"dataframe\">\n",
       "  <thead>\n",
       "    <tr style=\"text-align: right;\">\n",
       "      <th></th>\n",
       "      <th>date</th>\n",
       "      <th>location</th>\n",
       "      <th>mintemp</th>\n",
       "      <th>maxtemp</th>\n",
       "      <th>rainfall</th>\n",
       "      <th>evaporation</th>\n",
       "      <th>sunshine</th>\n",
       "      <th>windgustdir</th>\n",
       "      <th>windgustspeed</th>\n",
       "      <th>winddir9am</th>\n",
       "      <th>...</th>\n",
       "      <th>pressure3pm</th>\n",
       "      <th>cloud9am</th>\n",
       "      <th>cloud3pm</th>\n",
       "      <th>temp9am</th>\n",
       "      <th>temp3pm</th>\n",
       "      <th>raintoday</th>\n",
       "      <th>raintomorrow</th>\n",
       "      <th>year</th>\n",
       "      <th>month</th>\n",
       "      <th>day</th>\n",
       "    </tr>\n",
       "  </thead>\n",
       "  <tbody>\n",
       "    <tr>\n",
       "      <th>0</th>\n",
       "      <td>2008-12-01</td>\n",
       "      <td>Albury</td>\n",
       "      <td>13.4</td>\n",
       "      <td>22.9</td>\n",
       "      <td>0.6</td>\n",
       "      <td>9999.0</td>\n",
       "      <td>9999.0</td>\n",
       "      <td>W</td>\n",
       "      <td>44.0</td>\n",
       "      <td>W</td>\n",
       "      <td>...</td>\n",
       "      <td>1007.1</td>\n",
       "      <td>8.0</td>\n",
       "      <td>9999.0</td>\n",
       "      <td>16.9</td>\n",
       "      <td>21.8</td>\n",
       "      <td>No</td>\n",
       "      <td>No</td>\n",
       "      <td>2008</td>\n",
       "      <td>12</td>\n",
       "      <td>1</td>\n",
       "    </tr>\n",
       "    <tr>\n",
       "      <th>1</th>\n",
       "      <td>2008-12-02</td>\n",
       "      <td>Albury</td>\n",
       "      <td>7.4</td>\n",
       "      <td>25.1</td>\n",
       "      <td>0.0</td>\n",
       "      <td>9999.0</td>\n",
       "      <td>9999.0</td>\n",
       "      <td>WNW</td>\n",
       "      <td>44.0</td>\n",
       "      <td>NNW</td>\n",
       "      <td>...</td>\n",
       "      <td>1007.8</td>\n",
       "      <td>9999.0</td>\n",
       "      <td>9999.0</td>\n",
       "      <td>17.2</td>\n",
       "      <td>24.3</td>\n",
       "      <td>No</td>\n",
       "      <td>No</td>\n",
       "      <td>2008</td>\n",
       "      <td>12</td>\n",
       "      <td>2</td>\n",
       "    </tr>\n",
       "    <tr>\n",
       "      <th>2</th>\n",
       "      <td>2008-12-03</td>\n",
       "      <td>Albury</td>\n",
       "      <td>12.9</td>\n",
       "      <td>25.7</td>\n",
       "      <td>0.0</td>\n",
       "      <td>9999.0</td>\n",
       "      <td>9999.0</td>\n",
       "      <td>WSW</td>\n",
       "      <td>46.0</td>\n",
       "      <td>W</td>\n",
       "      <td>...</td>\n",
       "      <td>1008.7</td>\n",
       "      <td>9999.0</td>\n",
       "      <td>2.0</td>\n",
       "      <td>21.0</td>\n",
       "      <td>23.2</td>\n",
       "      <td>No</td>\n",
       "      <td>No</td>\n",
       "      <td>2008</td>\n",
       "      <td>12</td>\n",
       "      <td>3</td>\n",
       "    </tr>\n",
       "    <tr>\n",
       "      <th>3</th>\n",
       "      <td>2008-12-04</td>\n",
       "      <td>Albury</td>\n",
       "      <td>9.2</td>\n",
       "      <td>28.0</td>\n",
       "      <td>0.0</td>\n",
       "      <td>9999.0</td>\n",
       "      <td>9999.0</td>\n",
       "      <td>NE</td>\n",
       "      <td>24.0</td>\n",
       "      <td>SE</td>\n",
       "      <td>...</td>\n",
       "      <td>1012.8</td>\n",
       "      <td>9999.0</td>\n",
       "      <td>9999.0</td>\n",
       "      <td>18.1</td>\n",
       "      <td>26.5</td>\n",
       "      <td>No</td>\n",
       "      <td>No</td>\n",
       "      <td>2008</td>\n",
       "      <td>12</td>\n",
       "      <td>4</td>\n",
       "    </tr>\n",
       "    <tr>\n",
       "      <th>4</th>\n",
       "      <td>2008-12-05</td>\n",
       "      <td>Albury</td>\n",
       "      <td>17.5</td>\n",
       "      <td>32.3</td>\n",
       "      <td>1.0</td>\n",
       "      <td>9999.0</td>\n",
       "      <td>9999.0</td>\n",
       "      <td>W</td>\n",
       "      <td>41.0</td>\n",
       "      <td>ENE</td>\n",
       "      <td>...</td>\n",
       "      <td>1006.0</td>\n",
       "      <td>7.0</td>\n",
       "      <td>8.0</td>\n",
       "      <td>17.8</td>\n",
       "      <td>29.7</td>\n",
       "      <td>No</td>\n",
       "      <td>No</td>\n",
       "      <td>2008</td>\n",
       "      <td>12</td>\n",
       "      <td>5</td>\n",
       "    </tr>\n",
       "  </tbody>\n",
       "</table>\n",
       "<p>5 rows × 26 columns</p>\n",
       "</div>"
      ],
      "text/plain": [
       "         date location  mintemp  maxtemp  rainfall  evaporation  sunshine  \\\n",
       "0  2008-12-01   Albury     13.4     22.9       0.6       9999.0    9999.0   \n",
       "1  2008-12-02   Albury      7.4     25.1       0.0       9999.0    9999.0   \n",
       "2  2008-12-03   Albury     12.9     25.7       0.0       9999.0    9999.0   \n",
       "3  2008-12-04   Albury      9.2     28.0       0.0       9999.0    9999.0   \n",
       "4  2008-12-05   Albury     17.5     32.3       1.0       9999.0    9999.0   \n",
       "\n",
       "  windgustdir  windgustspeed winddir9am  ... pressure3pm  cloud9am  cloud3pm  \\\n",
       "0           W           44.0          W  ...      1007.1       8.0    9999.0   \n",
       "1         WNW           44.0        NNW  ...      1007.8    9999.0    9999.0   \n",
       "2         WSW           46.0          W  ...      1008.7    9999.0       2.0   \n",
       "3          NE           24.0         SE  ...      1012.8    9999.0    9999.0   \n",
       "4           W           41.0        ENE  ...      1006.0       7.0       8.0   \n",
       "\n",
       "   temp9am  temp3pm  raintoday  raintomorrow  year  month  day  \n",
       "0     16.9     21.8         No            No  2008     12    1  \n",
       "1     17.2     24.3         No            No  2008     12    2  \n",
       "2     21.0     23.2         No            No  2008     12    3  \n",
       "3     18.1     26.5         No            No  2008     12    4  \n",
       "4     17.8     29.7         No            No  2008     12    5  \n",
       "\n",
       "[5 rows x 26 columns]"
      ]
     },
     "execution_count": 34,
     "metadata": {},
     "output_type": "execute_result"
    }
   ],
   "source": [
    "# import data from AWS RDS Database\n",
    "\n",
    "\n",
    "conn_string = \"host=\"+cfg.PGHOST +\" port=\"+ \"5432\" +\" dbname=\"+ cfg.PGDATABASE +\" user=\" + cfg.PGUSER \\\n",
    "                  +\" password=\"+ cfg.PGPASSWORD\n",
    "    \n",
    "conn = psycopg2.connect(conn_string)\n",
    "cur = conn.cursor()\n",
    "\n",
    "df = pd.read_sql_query('select * from weather_aus_raw', conn)\n",
    "df.head()"
   ]
  },
  {
   "cell_type": "markdown",
   "id": "717ca6c3",
   "metadata": {},
   "source": [
    "## Review the Data"
   ]
  },
  {
   "cell_type": "code",
   "execution_count": 35,
   "id": "685dce29",
   "metadata": {},
   "outputs": [
    {
     "data": {
      "text/plain": [
       "(145460, 26)"
      ]
     },
     "execution_count": 35,
     "metadata": {},
     "output_type": "execute_result"
    }
   ],
   "source": [
    "df.shape"
   ]
  },
  {
   "cell_type": "code",
   "execution_count": 36,
   "id": "2273a3a5",
   "metadata": {},
   "outputs": [
    {
     "data": {
      "text/plain": [
       "date              object\n",
       "location          object\n",
       "mintemp          float64\n",
       "maxtemp          float64\n",
       "rainfall         float64\n",
       "evaporation      float64\n",
       "sunshine         float64\n",
       "windgustdir       object\n",
       "windgustspeed    float64\n",
       "winddir9am        object\n",
       "winddir3pm        object\n",
       "windspeed9am     float64\n",
       "windspeed3pm     float64\n",
       "humidity9am      float64\n",
       "humidity3pm      float64\n",
       "pressure9am      float64\n",
       "pressure3pm      float64\n",
       "cloud9am         float64\n",
       "cloud3pm         float64\n",
       "temp9am          float64\n",
       "temp3pm          float64\n",
       "raintoday         object\n",
       "raintomorrow      object\n",
       "year               int64\n",
       "month              int64\n",
       "day                int64\n",
       "dtype: object"
      ]
     },
     "execution_count": 36,
     "metadata": {},
     "output_type": "execute_result"
    }
   ],
   "source": [
    "# Check Datatypes\n",
    "\n",
    "df.dtypes"
   ]
  },
  {
   "cell_type": "code",
   "execution_count": 37,
   "id": "3556c453",
   "metadata": {},
   "outputs": [
    {
     "data": {
      "text/plain": [
       "date             145460\n",
       "location         145460\n",
       "mintemp          145460\n",
       "maxtemp          145460\n",
       "rainfall         145460\n",
       "evaporation      145460\n",
       "sunshine         145460\n",
       "windgustdir      145460\n",
       "windgustspeed    145460\n",
       "winddir9am       145460\n",
       "winddir3pm       145460\n",
       "windspeed9am     145460\n",
       "windspeed3pm     145460\n",
       "humidity9am      145460\n",
       "humidity3pm      145460\n",
       "pressure9am      145460\n",
       "pressure3pm      145460\n",
       "cloud9am         145460\n",
       "cloud3pm         145460\n",
       "temp9am          145460\n",
       "temp3pm          145460\n",
       "raintoday        145460\n",
       "raintomorrow     145460\n",
       "year             145460\n",
       "month            145460\n",
       "day              145460\n",
       "dtype: int64"
      ]
     },
     "execution_count": 37,
     "metadata": {},
     "output_type": "execute_result"
    }
   ],
   "source": [
    "df.isna().count()"
   ]
  },
  {
   "cell_type": "code",
   "execution_count": 38,
   "id": "2eecb6f8",
   "metadata": {},
   "outputs": [
    {
     "data": {
      "text/plain": [
       "49"
      ]
     },
     "execution_count": 38,
     "metadata": {},
     "output_type": "execute_result"
    }
   ],
   "source": [
    "df['location'].nunique()"
   ]
  },
  {
   "cell_type": "markdown",
   "id": "dc242061",
   "metadata": {},
   "source": [
    "## Check if Bucketing Required"
   ]
  },
  {
   "cell_type": "code",
   "execution_count": 39,
   "id": "77411f01",
   "metadata": {},
   "outputs": [
    {
     "data": {
      "text/plain": [
       "2016    17934\n",
       "2014    17885\n",
       "2015    17885\n",
       "2009    16789\n",
       "2010    16782\n",
       "2013    16415\n",
       "2012    15409\n",
       "2011    15407\n",
       "2017     8623\n",
       "2008     2270\n",
       "2007       61\n",
       "Name: year, dtype: int64"
      ]
     },
     "execution_count": 39,
     "metadata": {},
     "output_type": "execute_result"
    }
   ],
   "source": [
    "# Check the unique value counts to see if binning is required\n",
    "df.year.value_counts()"
   ]
  },
  {
   "cell_type": "code",
   "execution_count": 40,
   "id": "e83e8df9",
   "metadata": {},
   "outputs": [
    {
     "data": {
      "text/plain": [
       "Canberra            3436\n",
       "Sydney              3344\n",
       "Brisbane            3193\n",
       "Hobart              3193\n",
       "Melbourne           3193\n",
       "Perth               3193\n",
       "Darwin              3193\n",
       "Adelaide            3193\n",
       "MountGinini         3040\n",
       "Launceston          3040\n",
       "Bendigo             3040\n",
       "Townsville          3040\n",
       "AliceSprings        3040\n",
       "Albury              3040\n",
       "Wollongong          3040\n",
       "Cairns              3040\n",
       "Albany              3040\n",
       "GoldCoast           3040\n",
       "MountGambier        3040\n",
       "Ballarat            3040\n",
       "Penrith             3039\n",
       "Newcastle           3039\n",
       "Tuggeranong         3039\n",
       "Woomera             3009\n",
       "SydneyAirport       3009\n",
       "Watsonia            3009\n",
       "PearceRAAF          3009\n",
       "CoffsHarbour        3009\n",
       "NorfolkIsland       3009\n",
       "Moree               3009\n",
       "Dartmoor            3009\n",
       "BadgerysCreek       3009\n",
       "Williamtown         3009\n",
       "Cobar               3009\n",
       "Mildura             3009\n",
       "MelbourneAirport    3009\n",
       "PerthAirport        3009\n",
       "Witchcliffe         3009\n",
       "Richmond            3009\n",
       "Portland            3009\n",
       "Nuriootpa           3009\n",
       "WaggaWagga          3009\n",
       "Sale                3009\n",
       "Walpole             3006\n",
       "NorahHead           3004\n",
       "SalmonGums          3001\n",
       "Uluru               1578\n",
       "Nhil                1578\n",
       "Katherine           1578\n",
       "Name: location, dtype: int64"
      ]
     },
     "execution_count": 40,
     "metadata": {},
     "output_type": "execute_result"
    }
   ],
   "source": [
    "# Check the unique value counts to see if binning is required\n",
    "df.location.value_counts()"
   ]
  },
  {
   "cell_type": "markdown",
   "id": "86f0e8ca",
   "metadata": {},
   "source": [
    "## Update \"RainTomorrow\" and \"RainToday\" Columns to Binary Values"
   ]
  },
  {
   "cell_type": "code",
   "execution_count": 41,
   "id": "f42b3f8e",
   "metadata": {},
   "outputs": [
    {
     "data": {
      "text/plain": [
       "No      110316\n",
       "Yes      31877\n",
       "9999      3267\n",
       "Name: raintomorrow, dtype: int64"
      ]
     },
     "execution_count": 41,
     "metadata": {},
     "output_type": "execute_result"
    }
   ],
   "source": [
    "df['raintomorrow'].value_counts()"
   ]
  },
  {
   "cell_type": "code",
   "execution_count": 42,
   "id": "540e8806",
   "metadata": {},
   "outputs": [
    {
     "data": {
      "text/plain": [
       "No      110319\n",
       "Yes      31880\n",
       "9999      3261\n",
       "Name: raintoday, dtype: int64"
      ]
     },
     "execution_count": 42,
     "metadata": {},
     "output_type": "execute_result"
    }
   ],
   "source": [
    "df['raintoday'].value_counts()"
   ]
  },
  {
   "cell_type": "code",
   "execution_count": 43,
   "id": "059860d0",
   "metadata": {},
   "outputs": [
    {
     "data": {
      "text/plain": [
       "0    113583\n",
       "1     31877\n",
       "Name: raintomorrow, dtype: int64"
      ]
     },
     "execution_count": 43,
     "metadata": {},
     "output_type": "execute_result"
    }
   ],
   "source": [
    "df['raintomorrow'] = df.raintomorrow.eq('Yes').mul(1)\n",
    "df['raintomorrow'].value_counts()"
   ]
  },
  {
   "cell_type": "code",
   "execution_count": 44,
   "id": "9410854b",
   "metadata": {},
   "outputs": [
    {
     "data": {
      "text/plain": [
       "0    113580\n",
       "1     31880\n",
       "Name: raintoday, dtype: int64"
      ]
     },
     "execution_count": 44,
     "metadata": {},
     "output_type": "execute_result"
    }
   ],
   "source": [
    "df['raintoday'] = df.raintoday.eq('Yes').mul(1)\n",
    "df['raintoday'].value_counts()"
   ]
  },
  {
   "cell_type": "markdown",
   "id": "f9e68804",
   "metadata": {},
   "source": [
    "## Drop Columns Not Needed for Machine Learning Model"
   ]
  },
  {
   "cell_type": "code",
   "execution_count": 45,
   "id": "fa5d01d3",
   "metadata": {},
   "outputs": [],
   "source": [
    "columns = ['date']\n",
    "df = df.drop(columns, axis=1)"
   ]
  },
  {
   "cell_type": "code",
   "execution_count": 46,
   "id": "74946471",
   "metadata": {},
   "outputs": [
    {
     "name": "stdout",
     "output_type": "stream",
     "text": [
      "(145460, 25)\n"
     ]
    },
    {
     "data": {
      "text/html": [
       "<div>\n",
       "<style scoped>\n",
       "    .dataframe tbody tr th:only-of-type {\n",
       "        vertical-align: middle;\n",
       "    }\n",
       "\n",
       "    .dataframe tbody tr th {\n",
       "        vertical-align: top;\n",
       "    }\n",
       "\n",
       "    .dataframe thead th {\n",
       "        text-align: right;\n",
       "    }\n",
       "</style>\n",
       "<table border=\"1\" class=\"dataframe\">\n",
       "  <thead>\n",
       "    <tr style=\"text-align: right;\">\n",
       "      <th></th>\n",
       "      <th>location</th>\n",
       "      <th>mintemp</th>\n",
       "      <th>maxtemp</th>\n",
       "      <th>rainfall</th>\n",
       "      <th>evaporation</th>\n",
       "      <th>sunshine</th>\n",
       "      <th>windgustdir</th>\n",
       "      <th>windgustspeed</th>\n",
       "      <th>winddir9am</th>\n",
       "      <th>winddir3pm</th>\n",
       "      <th>...</th>\n",
       "      <th>pressure3pm</th>\n",
       "      <th>cloud9am</th>\n",
       "      <th>cloud3pm</th>\n",
       "      <th>temp9am</th>\n",
       "      <th>temp3pm</th>\n",
       "      <th>raintoday</th>\n",
       "      <th>raintomorrow</th>\n",
       "      <th>year</th>\n",
       "      <th>month</th>\n",
       "      <th>day</th>\n",
       "    </tr>\n",
       "  </thead>\n",
       "  <tbody>\n",
       "    <tr>\n",
       "      <th>0</th>\n",
       "      <td>Albury</td>\n",
       "      <td>13.4</td>\n",
       "      <td>22.9</td>\n",
       "      <td>0.6</td>\n",
       "      <td>9999.0</td>\n",
       "      <td>9999.0</td>\n",
       "      <td>W</td>\n",
       "      <td>44.0</td>\n",
       "      <td>W</td>\n",
       "      <td>WNW</td>\n",
       "      <td>...</td>\n",
       "      <td>1007.1</td>\n",
       "      <td>8.0</td>\n",
       "      <td>9999.0</td>\n",
       "      <td>16.9</td>\n",
       "      <td>21.8</td>\n",
       "      <td>0</td>\n",
       "      <td>0</td>\n",
       "      <td>2008</td>\n",
       "      <td>12</td>\n",
       "      <td>1</td>\n",
       "    </tr>\n",
       "    <tr>\n",
       "      <th>1</th>\n",
       "      <td>Albury</td>\n",
       "      <td>7.4</td>\n",
       "      <td>25.1</td>\n",
       "      <td>0.0</td>\n",
       "      <td>9999.0</td>\n",
       "      <td>9999.0</td>\n",
       "      <td>WNW</td>\n",
       "      <td>44.0</td>\n",
       "      <td>NNW</td>\n",
       "      <td>WSW</td>\n",
       "      <td>...</td>\n",
       "      <td>1007.8</td>\n",
       "      <td>9999.0</td>\n",
       "      <td>9999.0</td>\n",
       "      <td>17.2</td>\n",
       "      <td>24.3</td>\n",
       "      <td>0</td>\n",
       "      <td>0</td>\n",
       "      <td>2008</td>\n",
       "      <td>12</td>\n",
       "      <td>2</td>\n",
       "    </tr>\n",
       "    <tr>\n",
       "      <th>2</th>\n",
       "      <td>Albury</td>\n",
       "      <td>12.9</td>\n",
       "      <td>25.7</td>\n",
       "      <td>0.0</td>\n",
       "      <td>9999.0</td>\n",
       "      <td>9999.0</td>\n",
       "      <td>WSW</td>\n",
       "      <td>46.0</td>\n",
       "      <td>W</td>\n",
       "      <td>WSW</td>\n",
       "      <td>...</td>\n",
       "      <td>1008.7</td>\n",
       "      <td>9999.0</td>\n",
       "      <td>2.0</td>\n",
       "      <td>21.0</td>\n",
       "      <td>23.2</td>\n",
       "      <td>0</td>\n",
       "      <td>0</td>\n",
       "      <td>2008</td>\n",
       "      <td>12</td>\n",
       "      <td>3</td>\n",
       "    </tr>\n",
       "    <tr>\n",
       "      <th>3</th>\n",
       "      <td>Albury</td>\n",
       "      <td>9.2</td>\n",
       "      <td>28.0</td>\n",
       "      <td>0.0</td>\n",
       "      <td>9999.0</td>\n",
       "      <td>9999.0</td>\n",
       "      <td>NE</td>\n",
       "      <td>24.0</td>\n",
       "      <td>SE</td>\n",
       "      <td>E</td>\n",
       "      <td>...</td>\n",
       "      <td>1012.8</td>\n",
       "      <td>9999.0</td>\n",
       "      <td>9999.0</td>\n",
       "      <td>18.1</td>\n",
       "      <td>26.5</td>\n",
       "      <td>0</td>\n",
       "      <td>0</td>\n",
       "      <td>2008</td>\n",
       "      <td>12</td>\n",
       "      <td>4</td>\n",
       "    </tr>\n",
       "    <tr>\n",
       "      <th>4</th>\n",
       "      <td>Albury</td>\n",
       "      <td>17.5</td>\n",
       "      <td>32.3</td>\n",
       "      <td>1.0</td>\n",
       "      <td>9999.0</td>\n",
       "      <td>9999.0</td>\n",
       "      <td>W</td>\n",
       "      <td>41.0</td>\n",
       "      <td>ENE</td>\n",
       "      <td>NW</td>\n",
       "      <td>...</td>\n",
       "      <td>1006.0</td>\n",
       "      <td>7.0</td>\n",
       "      <td>8.0</td>\n",
       "      <td>17.8</td>\n",
       "      <td>29.7</td>\n",
       "      <td>0</td>\n",
       "      <td>0</td>\n",
       "      <td>2008</td>\n",
       "      <td>12</td>\n",
       "      <td>5</td>\n",
       "    </tr>\n",
       "  </tbody>\n",
       "</table>\n",
       "<p>5 rows × 25 columns</p>\n",
       "</div>"
      ],
      "text/plain": [
       "  location  mintemp  maxtemp  rainfall  evaporation  sunshine windgustdir  \\\n",
       "0   Albury     13.4     22.9       0.6       9999.0    9999.0           W   \n",
       "1   Albury      7.4     25.1       0.0       9999.0    9999.0         WNW   \n",
       "2   Albury     12.9     25.7       0.0       9999.0    9999.0         WSW   \n",
       "3   Albury      9.2     28.0       0.0       9999.0    9999.0          NE   \n",
       "4   Albury     17.5     32.3       1.0       9999.0    9999.0           W   \n",
       "\n",
       "   windgustspeed winddir9am winddir3pm  ...  pressure3pm  cloud9am  cloud3pm  \\\n",
       "0           44.0          W        WNW  ...       1007.1       8.0    9999.0   \n",
       "1           44.0        NNW        WSW  ...       1007.8    9999.0    9999.0   \n",
       "2           46.0          W        WSW  ...       1008.7    9999.0       2.0   \n",
       "3           24.0         SE          E  ...       1012.8    9999.0    9999.0   \n",
       "4           41.0        ENE         NW  ...       1006.0       7.0       8.0   \n",
       "\n",
       "   temp9am  temp3pm  raintoday  raintomorrow  year  month  day  \n",
       "0     16.9     21.8          0             0  2008     12    1  \n",
       "1     17.2     24.3          0             0  2008     12    2  \n",
       "2     21.0     23.2          0             0  2008     12    3  \n",
       "3     18.1     26.5          0             0  2008     12    4  \n",
       "4     17.8     29.7          0             0  2008     12    5  \n",
       "\n",
       "[5 rows x 25 columns]"
      ]
     },
     "execution_count": 46,
     "metadata": {},
     "output_type": "execute_result"
    }
   ],
   "source": [
    "print(df.shape)\n",
    "df.head()"
   ]
  },
  {
   "cell_type": "markdown",
   "id": "4100035d",
   "metadata": {},
   "source": [
    "## Encode Columns - Use OneHotEncoder"
   ]
  },
  {
   "cell_type": "code",
   "execution_count": 47,
   "id": "cfc4e944",
   "metadata": {},
   "outputs": [
    {
     "data": {
      "text/plain": [
       "['location', 'windgustdir', 'winddir9am', 'winddir3pm']"
      ]
     },
     "execution_count": 47,
     "metadata": {},
     "output_type": "execute_result"
    }
   ],
   "source": [
    "# Generate our categorical variable list\n",
    "df_cat = df.dtypes[df.dtypes == \"object\"].index.tolist()\n",
    "df_cat"
   ]
  },
  {
   "cell_type": "code",
   "execution_count": 48,
   "id": "f5535d95",
   "metadata": {},
   "outputs": [
    {
     "data": {
      "text/plain": [
       "location       49\n",
       "windgustdir    17\n",
       "winddir9am     17\n",
       "winddir3pm     17\n",
       "dtype: int64"
      ]
     },
     "execution_count": 48,
     "metadata": {},
     "output_type": "execute_result"
    }
   ],
   "source": [
    "df[df_cat].nunique()"
   ]
  },
  {
   "cell_type": "code",
   "execution_count": 49,
   "id": "e6e03f28",
   "metadata": {},
   "outputs": [
    {
     "data": {
      "text/html": [
       "<div>\n",
       "<style scoped>\n",
       "    .dataframe tbody tr th:only-of-type {\n",
       "        vertical-align: middle;\n",
       "    }\n",
       "\n",
       "    .dataframe tbody tr th {\n",
       "        vertical-align: top;\n",
       "    }\n",
       "\n",
       "    .dataframe thead th {\n",
       "        text-align: right;\n",
       "    }\n",
       "</style>\n",
       "<table border=\"1\" class=\"dataframe\">\n",
       "  <thead>\n",
       "    <tr style=\"text-align: right;\">\n",
       "      <th></th>\n",
       "      <th>location_Adelaide</th>\n",
       "      <th>location_Albany</th>\n",
       "      <th>location_Albury</th>\n",
       "      <th>location_AliceSprings</th>\n",
       "      <th>location_BadgerysCreek</th>\n",
       "      <th>location_Ballarat</th>\n",
       "      <th>location_Bendigo</th>\n",
       "      <th>location_Brisbane</th>\n",
       "      <th>location_Cairns</th>\n",
       "      <th>location_Canberra</th>\n",
       "      <th>...</th>\n",
       "      <th>winddir3pm_NNW</th>\n",
       "      <th>winddir3pm_NW</th>\n",
       "      <th>winddir3pm_S</th>\n",
       "      <th>winddir3pm_SE</th>\n",
       "      <th>winddir3pm_SSE</th>\n",
       "      <th>winddir3pm_SSW</th>\n",
       "      <th>winddir3pm_SW</th>\n",
       "      <th>winddir3pm_W</th>\n",
       "      <th>winddir3pm_WNW</th>\n",
       "      <th>winddir3pm_WSW</th>\n",
       "    </tr>\n",
       "  </thead>\n",
       "  <tbody>\n",
       "    <tr>\n",
       "      <th>0</th>\n",
       "      <td>0.0</td>\n",
       "      <td>0.0</td>\n",
       "      <td>1.0</td>\n",
       "      <td>0.0</td>\n",
       "      <td>0.0</td>\n",
       "      <td>0.0</td>\n",
       "      <td>0.0</td>\n",
       "      <td>0.0</td>\n",
       "      <td>0.0</td>\n",
       "      <td>0.0</td>\n",
       "      <td>...</td>\n",
       "      <td>0.0</td>\n",
       "      <td>0.0</td>\n",
       "      <td>0.0</td>\n",
       "      <td>0.0</td>\n",
       "      <td>0.0</td>\n",
       "      <td>0.0</td>\n",
       "      <td>0.0</td>\n",
       "      <td>0.0</td>\n",
       "      <td>1.0</td>\n",
       "      <td>0.0</td>\n",
       "    </tr>\n",
       "    <tr>\n",
       "      <th>1</th>\n",
       "      <td>0.0</td>\n",
       "      <td>0.0</td>\n",
       "      <td>1.0</td>\n",
       "      <td>0.0</td>\n",
       "      <td>0.0</td>\n",
       "      <td>0.0</td>\n",
       "      <td>0.0</td>\n",
       "      <td>0.0</td>\n",
       "      <td>0.0</td>\n",
       "      <td>0.0</td>\n",
       "      <td>...</td>\n",
       "      <td>0.0</td>\n",
       "      <td>0.0</td>\n",
       "      <td>0.0</td>\n",
       "      <td>0.0</td>\n",
       "      <td>0.0</td>\n",
       "      <td>0.0</td>\n",
       "      <td>0.0</td>\n",
       "      <td>0.0</td>\n",
       "      <td>0.0</td>\n",
       "      <td>1.0</td>\n",
       "    </tr>\n",
       "    <tr>\n",
       "      <th>2</th>\n",
       "      <td>0.0</td>\n",
       "      <td>0.0</td>\n",
       "      <td>1.0</td>\n",
       "      <td>0.0</td>\n",
       "      <td>0.0</td>\n",
       "      <td>0.0</td>\n",
       "      <td>0.0</td>\n",
       "      <td>0.0</td>\n",
       "      <td>0.0</td>\n",
       "      <td>0.0</td>\n",
       "      <td>...</td>\n",
       "      <td>0.0</td>\n",
       "      <td>0.0</td>\n",
       "      <td>0.0</td>\n",
       "      <td>0.0</td>\n",
       "      <td>0.0</td>\n",
       "      <td>0.0</td>\n",
       "      <td>0.0</td>\n",
       "      <td>0.0</td>\n",
       "      <td>0.0</td>\n",
       "      <td>1.0</td>\n",
       "    </tr>\n",
       "    <tr>\n",
       "      <th>3</th>\n",
       "      <td>0.0</td>\n",
       "      <td>0.0</td>\n",
       "      <td>1.0</td>\n",
       "      <td>0.0</td>\n",
       "      <td>0.0</td>\n",
       "      <td>0.0</td>\n",
       "      <td>0.0</td>\n",
       "      <td>0.0</td>\n",
       "      <td>0.0</td>\n",
       "      <td>0.0</td>\n",
       "      <td>...</td>\n",
       "      <td>0.0</td>\n",
       "      <td>0.0</td>\n",
       "      <td>0.0</td>\n",
       "      <td>0.0</td>\n",
       "      <td>0.0</td>\n",
       "      <td>0.0</td>\n",
       "      <td>0.0</td>\n",
       "      <td>0.0</td>\n",
       "      <td>0.0</td>\n",
       "      <td>0.0</td>\n",
       "    </tr>\n",
       "    <tr>\n",
       "      <th>4</th>\n",
       "      <td>0.0</td>\n",
       "      <td>0.0</td>\n",
       "      <td>1.0</td>\n",
       "      <td>0.0</td>\n",
       "      <td>0.0</td>\n",
       "      <td>0.0</td>\n",
       "      <td>0.0</td>\n",
       "      <td>0.0</td>\n",
       "      <td>0.0</td>\n",
       "      <td>0.0</td>\n",
       "      <td>...</td>\n",
       "      <td>0.0</td>\n",
       "      <td>1.0</td>\n",
       "      <td>0.0</td>\n",
       "      <td>0.0</td>\n",
       "      <td>0.0</td>\n",
       "      <td>0.0</td>\n",
       "      <td>0.0</td>\n",
       "      <td>0.0</td>\n",
       "      <td>0.0</td>\n",
       "      <td>0.0</td>\n",
       "    </tr>\n",
       "  </tbody>\n",
       "</table>\n",
       "<p>5 rows × 100 columns</p>\n",
       "</div>"
      ],
      "text/plain": [
       "   location_Adelaide  location_Albany  location_Albury  location_AliceSprings  \\\n",
       "0                0.0              0.0              1.0                    0.0   \n",
       "1                0.0              0.0              1.0                    0.0   \n",
       "2                0.0              0.0              1.0                    0.0   \n",
       "3                0.0              0.0              1.0                    0.0   \n",
       "4                0.0              0.0              1.0                    0.0   \n",
       "\n",
       "   location_BadgerysCreek  location_Ballarat  location_Bendigo  \\\n",
       "0                     0.0                0.0               0.0   \n",
       "1                     0.0                0.0               0.0   \n",
       "2                     0.0                0.0               0.0   \n",
       "3                     0.0                0.0               0.0   \n",
       "4                     0.0                0.0               0.0   \n",
       "\n",
       "   location_Brisbane  location_Cairns  location_Canberra  ...  winddir3pm_NNW  \\\n",
       "0                0.0              0.0                0.0  ...             0.0   \n",
       "1                0.0              0.0                0.0  ...             0.0   \n",
       "2                0.0              0.0                0.0  ...             0.0   \n",
       "3                0.0              0.0                0.0  ...             0.0   \n",
       "4                0.0              0.0                0.0  ...             0.0   \n",
       "\n",
       "   winddir3pm_NW  winddir3pm_S  winddir3pm_SE  winddir3pm_SSE  winddir3pm_SSW  \\\n",
       "0            0.0           0.0            0.0             0.0             0.0   \n",
       "1            0.0           0.0            0.0             0.0             0.0   \n",
       "2            0.0           0.0            0.0             0.0             0.0   \n",
       "3            0.0           0.0            0.0             0.0             0.0   \n",
       "4            1.0           0.0            0.0             0.0             0.0   \n",
       "\n",
       "   winddir3pm_SW  winddir3pm_W  winddir3pm_WNW  winddir3pm_WSW  \n",
       "0            0.0           0.0             1.0             0.0  \n",
       "1            0.0           0.0             0.0             1.0  \n",
       "2            0.0           0.0             0.0             1.0  \n",
       "3            0.0           0.0             0.0             0.0  \n",
       "4            0.0           0.0             0.0             0.0  \n",
       "\n",
       "[5 rows x 100 columns]"
      ]
     },
     "execution_count": 49,
     "metadata": {},
     "output_type": "execute_result"
    }
   ],
   "source": [
    "# Create the OneHotEncoder instance\n",
    "from sklearn.preprocessing import OneHotEncoder\n",
    "enc = OneHotEncoder(sparse=False)\n",
    "\n",
    "# Fit the encoder and produce encoded DataFrame\n",
    "encode_df = pd.DataFrame(enc.fit_transform(df[df_cat]))\n",
    "\n",
    "# Rename encoded columns\n",
    "encode_df.columns = enc.get_feature_names(df_cat)\n",
    "encode_df.head()\n"
   ]
  },
  {
   "cell_type": "code",
   "execution_count": 50,
   "id": "63884474",
   "metadata": {},
   "outputs": [
    {
     "data": {
      "text/html": [
       "<div>\n",
       "<style scoped>\n",
       "    .dataframe tbody tr th:only-of-type {\n",
       "        vertical-align: middle;\n",
       "    }\n",
       "\n",
       "    .dataframe tbody tr th {\n",
       "        vertical-align: top;\n",
       "    }\n",
       "\n",
       "    .dataframe thead th {\n",
       "        text-align: right;\n",
       "    }\n",
       "</style>\n",
       "<table border=\"1\" class=\"dataframe\">\n",
       "  <thead>\n",
       "    <tr style=\"text-align: right;\">\n",
       "      <th></th>\n",
       "      <th>mintemp</th>\n",
       "      <th>maxtemp</th>\n",
       "      <th>rainfall</th>\n",
       "      <th>evaporation</th>\n",
       "      <th>sunshine</th>\n",
       "      <th>windgustspeed</th>\n",
       "      <th>windspeed9am</th>\n",
       "      <th>windspeed3pm</th>\n",
       "      <th>humidity9am</th>\n",
       "      <th>humidity3pm</th>\n",
       "      <th>...</th>\n",
       "      <th>winddir3pm_NNW</th>\n",
       "      <th>winddir3pm_NW</th>\n",
       "      <th>winddir3pm_S</th>\n",
       "      <th>winddir3pm_SE</th>\n",
       "      <th>winddir3pm_SSE</th>\n",
       "      <th>winddir3pm_SSW</th>\n",
       "      <th>winddir3pm_SW</th>\n",
       "      <th>winddir3pm_W</th>\n",
       "      <th>winddir3pm_WNW</th>\n",
       "      <th>winddir3pm_WSW</th>\n",
       "    </tr>\n",
       "  </thead>\n",
       "  <tbody>\n",
       "    <tr>\n",
       "      <th>0</th>\n",
       "      <td>13.4</td>\n",
       "      <td>22.9</td>\n",
       "      <td>0.6</td>\n",
       "      <td>9999.0</td>\n",
       "      <td>9999.0</td>\n",
       "      <td>44.0</td>\n",
       "      <td>20.0</td>\n",
       "      <td>24.0</td>\n",
       "      <td>71.0</td>\n",
       "      <td>22.0</td>\n",
       "      <td>...</td>\n",
       "      <td>0.0</td>\n",
       "      <td>0.0</td>\n",
       "      <td>0.0</td>\n",
       "      <td>0.0</td>\n",
       "      <td>0.0</td>\n",
       "      <td>0.0</td>\n",
       "      <td>0.0</td>\n",
       "      <td>0.0</td>\n",
       "      <td>1.0</td>\n",
       "      <td>0.0</td>\n",
       "    </tr>\n",
       "    <tr>\n",
       "      <th>1</th>\n",
       "      <td>7.4</td>\n",
       "      <td>25.1</td>\n",
       "      <td>0.0</td>\n",
       "      <td>9999.0</td>\n",
       "      <td>9999.0</td>\n",
       "      <td>44.0</td>\n",
       "      <td>4.0</td>\n",
       "      <td>22.0</td>\n",
       "      <td>44.0</td>\n",
       "      <td>25.0</td>\n",
       "      <td>...</td>\n",
       "      <td>0.0</td>\n",
       "      <td>0.0</td>\n",
       "      <td>0.0</td>\n",
       "      <td>0.0</td>\n",
       "      <td>0.0</td>\n",
       "      <td>0.0</td>\n",
       "      <td>0.0</td>\n",
       "      <td>0.0</td>\n",
       "      <td>0.0</td>\n",
       "      <td>1.0</td>\n",
       "    </tr>\n",
       "    <tr>\n",
       "      <th>2</th>\n",
       "      <td>12.9</td>\n",
       "      <td>25.7</td>\n",
       "      <td>0.0</td>\n",
       "      <td>9999.0</td>\n",
       "      <td>9999.0</td>\n",
       "      <td>46.0</td>\n",
       "      <td>19.0</td>\n",
       "      <td>26.0</td>\n",
       "      <td>38.0</td>\n",
       "      <td>30.0</td>\n",
       "      <td>...</td>\n",
       "      <td>0.0</td>\n",
       "      <td>0.0</td>\n",
       "      <td>0.0</td>\n",
       "      <td>0.0</td>\n",
       "      <td>0.0</td>\n",
       "      <td>0.0</td>\n",
       "      <td>0.0</td>\n",
       "      <td>0.0</td>\n",
       "      <td>0.0</td>\n",
       "      <td>1.0</td>\n",
       "    </tr>\n",
       "    <tr>\n",
       "      <th>3</th>\n",
       "      <td>9.2</td>\n",
       "      <td>28.0</td>\n",
       "      <td>0.0</td>\n",
       "      <td>9999.0</td>\n",
       "      <td>9999.0</td>\n",
       "      <td>24.0</td>\n",
       "      <td>11.0</td>\n",
       "      <td>9.0</td>\n",
       "      <td>45.0</td>\n",
       "      <td>16.0</td>\n",
       "      <td>...</td>\n",
       "      <td>0.0</td>\n",
       "      <td>0.0</td>\n",
       "      <td>0.0</td>\n",
       "      <td>0.0</td>\n",
       "      <td>0.0</td>\n",
       "      <td>0.0</td>\n",
       "      <td>0.0</td>\n",
       "      <td>0.0</td>\n",
       "      <td>0.0</td>\n",
       "      <td>0.0</td>\n",
       "    </tr>\n",
       "    <tr>\n",
       "      <th>4</th>\n",
       "      <td>17.5</td>\n",
       "      <td>32.3</td>\n",
       "      <td>1.0</td>\n",
       "      <td>9999.0</td>\n",
       "      <td>9999.0</td>\n",
       "      <td>41.0</td>\n",
       "      <td>7.0</td>\n",
       "      <td>20.0</td>\n",
       "      <td>82.0</td>\n",
       "      <td>33.0</td>\n",
       "      <td>...</td>\n",
       "      <td>0.0</td>\n",
       "      <td>1.0</td>\n",
       "      <td>0.0</td>\n",
       "      <td>0.0</td>\n",
       "      <td>0.0</td>\n",
       "      <td>0.0</td>\n",
       "      <td>0.0</td>\n",
       "      <td>0.0</td>\n",
       "      <td>0.0</td>\n",
       "      <td>0.0</td>\n",
       "    </tr>\n",
       "  </tbody>\n",
       "</table>\n",
       "<p>5 rows × 121 columns</p>\n",
       "</div>"
      ],
      "text/plain": [
       "   mintemp  maxtemp  rainfall  evaporation  sunshine  windgustspeed  \\\n",
       "0     13.4     22.9       0.6       9999.0    9999.0           44.0   \n",
       "1      7.4     25.1       0.0       9999.0    9999.0           44.0   \n",
       "2     12.9     25.7       0.0       9999.0    9999.0           46.0   \n",
       "3      9.2     28.0       0.0       9999.0    9999.0           24.0   \n",
       "4     17.5     32.3       1.0       9999.0    9999.0           41.0   \n",
       "\n",
       "   windspeed9am  windspeed3pm  humidity9am  humidity3pm  ...  winddir3pm_NNW  \\\n",
       "0          20.0          24.0         71.0         22.0  ...             0.0   \n",
       "1           4.0          22.0         44.0         25.0  ...             0.0   \n",
       "2          19.0          26.0         38.0         30.0  ...             0.0   \n",
       "3          11.0           9.0         45.0         16.0  ...             0.0   \n",
       "4           7.0          20.0         82.0         33.0  ...             0.0   \n",
       "\n",
       "   winddir3pm_NW  winddir3pm_S  winddir3pm_SE  winddir3pm_SSE  winddir3pm_SSW  \\\n",
       "0            0.0           0.0            0.0             0.0             0.0   \n",
       "1            0.0           0.0            0.0             0.0             0.0   \n",
       "2            0.0           0.0            0.0             0.0             0.0   \n",
       "3            0.0           0.0            0.0             0.0             0.0   \n",
       "4            1.0           0.0            0.0             0.0             0.0   \n",
       "\n",
       "   winddir3pm_SW  winddir3pm_W  winddir3pm_WNW  winddir3pm_WSW  \n",
       "0            0.0           0.0             1.0             0.0  \n",
       "1            0.0           0.0             0.0             1.0  \n",
       "2            0.0           0.0             0.0             1.0  \n",
       "3            0.0           0.0             0.0             0.0  \n",
       "4            0.0           0.0             0.0             0.0  \n",
       "\n",
       "[5 rows x 121 columns]"
      ]
     },
     "execution_count": 50,
     "metadata": {},
     "output_type": "execute_result"
    }
   ],
   "source": [
    "# Merge one-hot encoded features and drop the originals\n",
    "df = df.merge(encode_df,left_index=True, right_index=True)\n",
    "df = df.drop(df_cat, axis=1)\n",
    "df.head()"
   ]
  },
  {
   "cell_type": "code",
   "execution_count": 51,
   "id": "8f8f1f5a",
   "metadata": {},
   "outputs": [
    {
     "data": {
      "text/plain": [
       "Index(['mintemp', 'maxtemp', 'rainfall', 'evaporation', 'sunshine',\n",
       "       'windgustspeed', 'windspeed9am', 'windspeed3pm', 'humidity9am',\n",
       "       'humidity3pm',\n",
       "       ...\n",
       "       'winddir3pm_NNW', 'winddir3pm_NW', 'winddir3pm_S', 'winddir3pm_SE',\n",
       "       'winddir3pm_SSE', 'winddir3pm_SSW', 'winddir3pm_SW', 'winddir3pm_W',\n",
       "       'winddir3pm_WNW', 'winddir3pm_WSW'],\n",
       "      dtype='object', length=121)"
      ]
     },
     "execution_count": 51,
     "metadata": {},
     "output_type": "execute_result"
    }
   ],
   "source": [
    "df.columns"
   ]
  },
  {
   "cell_type": "markdown",
   "id": "f97caf1f",
   "metadata": {},
   "source": [
    "## Variable Declaration and Split into Test/Train"
   ]
  },
  {
   "cell_type": "code",
   "execution_count": 52,
   "id": "78f91a35",
   "metadata": {},
   "outputs": [],
   "source": [
    "# define Target Variable\n",
    "X = df.copy()\n",
    "X = X.drop(\"raintomorrow\", axis=1)\n",
    "y = df[\"raintomorrow\"]\n",
    "\n",
    "# Split training/test datasets\n",
    "X_train, X_test, y_train, y_test = train_test_split(X, y, random_state=42, stratify=y)"
   ]
  },
  {
   "cell_type": "markdown",
   "id": "89443ea5",
   "metadata": {},
   "source": [
    "## Scale the Data\n",
    "#### We will use standard scaler for the model"
   ]
  },
  {
   "cell_type": "code",
   "execution_count": 53,
   "id": "50d67c2e",
   "metadata": {},
   "outputs": [],
   "source": [
    "from sklearn.preprocessing import StandardScaler\n",
    "\n",
    "# Create an instance of StandardScaler\n",
    "scaler = StandardScaler()\n",
    "\n",
    "# Fit the StandardScaler\n",
    "X_scaler = scaler.fit(X_train)\n",
    "\n",
    "# Scale the data\n",
    "X_train_scaled = X_scaler.transform(X_train)\n",
    "X_test_scaled = X_scaler.transform(X_test)"
   ]
  },
  {
   "cell_type": "markdown",
   "id": "1e989847",
   "metadata": {},
   "source": [
    "## Handle Class Imbalance\n",
    "\n",
    "- Plot the data to check for class imbalance\n",
    "- If imbalance exists, evaluate sampling strategies to find the best fit for rainfall data"
   ]
  },
  {
   "cell_type": "code",
   "execution_count": 54,
   "id": "5e759259",
   "metadata": {},
   "outputs": [
    {
     "data": {
      "image/png": "[encoded data removed]",
      "text/plain": [
       "<Figure size 576x360 with 1 Axes>"
      ]
     },
     "metadata": {
      "needs_background": "light"
     },
     "output_type": "display_data"
    }
   ],
   "source": [
    "import matplotlib.pyplot as plt\n",
    "fig = plt.figure(figsize = (8,5))\n",
    "df.raintomorrow.value_counts(normalize = True).plot(kind='bar', color= ['mediumpurple','thistle'], alpha = 0.8, rot=0)\n",
    "plt.title('RainTomorrow - 0-No and 1-Yes')\n",
    "plt.show()"
   ]
  },
  {
   "cell_type": "code",
   "execution_count": 55,
   "id": "ebf159f2",
   "metadata": {},
   "outputs": [
    {
     "data": {
      "text/plain": [
       "<AxesSubplot:>"
      ]
     },
     "execution_count": 55,
     "metadata": {},
     "output_type": "execute_result"
    },
    {
     "data": {
      "image/png": "[encoded data removed]",
      "text/plain": [
       "<Figure size 432x288 with 1 Axes>"
      ]
     },
     "metadata": {
      "needs_background": "light"
     },
     "output_type": "display_data"
    }
   ],
   "source": [
    "\n",
    "df.boxplot(column=['rainfall','evaporation','windgustspeed','windspeed9am','windspeed3pm'])"
   ]
  },
  {
   "cell_type": "code",
   "execution_count": 56,
   "id": "a143deee",
   "metadata": {},
   "outputs": [
    {
     "data": {
      "text/plain": [
       "Counter({1: 23908, 0: 85187})"
      ]
     },
     "execution_count": 56,
     "metadata": {},
     "output_type": "execute_result"
    }
   ],
   "source": [
    "Counter(y_train)"
   ]
  },
  {
   "cell_type": "code",
   "execution_count": 57,
   "id": "f5909737",
   "metadata": {},
   "outputs": [
    {
     "data": {
      "text/plain": [
       "Counter({1: 85187, 0: 85187})"
      ]
     },
     "execution_count": 57,
     "metadata": {},
     "output_type": "execute_result"
    }
   ],
   "source": [
    "# Resample the training data with the RandomOversampler\n",
    "from collections import Counter\n",
    "\n",
    "from imblearn.over_sampling import RandomOverSampler\n",
    "ros = RandomOverSampler(random_state=1)\n",
    "X_resampled, y_resampled = ros.fit_resample(X_train_scaled, y_train)\n",
    "\n",
    "\n",
    "#from imblearn.over_sampling import SMOTE\n",
    "#X_resampled, y_resampled = SMOTE(random_state=1, sampling_strategy='auto').fit_resample(X_train_scaled, y_train)\n",
    "\n",
    "#from imblearn.combine import SMOTEENN\n",
    "\n",
    "#smote_enn = SMOTEENN(random_state=0)\n",
    "#X_resampled, y_resampled = smote_enn.fit_resample(X_train_scaled, y_train)\n",
    "\n",
    "Counter(y_resampled)"
   ]
  },
  {
   "cell_type": "markdown",
   "id": "8e25ae1a",
   "metadata": {},
   "source": [
    "## Define Machine Learning Model\n",
    "### We want to evaluate the following three models to find the best fit:\n",
    "- Random forest\n",
    "- GBM (Boosting)\n",
    "- Logistic\n",
    "####  Balanced Random Forest mockup below"
   ]
  },
  {
   "cell_type": "code",
   "execution_count": 58,
   "id": "c68731c4",
   "metadata": {},
   "outputs": [],
   "source": [
    "# Create a random forest classifier.\n",
    "\n",
    "#from sklearn.ensemble import RandomForestClassifier\n",
    "#rf_model = RandomForestClassifier(n_estimators=128, random_state=42) \n",
    "\n",
    "from imblearn.ensemble import BalancedRandomForestClassifier\n",
    "rf_model = BalancedRandomForestClassifier(n_estimators=100, random_state=42) \n",
    "\n",
    "# Fitting the model\n",
    "rf_model = rf_model.fit(X_resampled, y_resampled)\n",
    "\n",
    "# Making predictions using the testing data.\n",
    "y_pred = rf_model.predict(X_test_scaled)\n",
    "\n"
   ]
  },
  {
   "cell_type": "markdown",
   "id": "05aa0616",
   "metadata": {},
   "source": [
    "## Model Validation\n",
    "- Accuracy Report\n",
    "- Confusion Matrix\n",
    "- Classification Report\n",
    "\n"
   ]
  },
  {
   "cell_type": "code",
   "execution_count": 59,
   "id": "119b6989",
   "metadata": {},
   "outputs": [
    {
     "data": {
      "text/html": [
       "<div>\n",
       "<style scoped>\n",
       "    .dataframe tbody tr th:only-of-type {\n",
       "        vertical-align: middle;\n",
       "    }\n",
       "\n",
       "    .dataframe tbody tr th {\n",
       "        vertical-align: top;\n",
       "    }\n",
       "\n",
       "    .dataframe thead th {\n",
       "        text-align: right;\n",
       "    }\n",
       "</style>\n",
       "<table border=\"1\" class=\"dataframe\">\n",
       "  <thead>\n",
       "    <tr style=\"text-align: right;\">\n",
       "      <th></th>\n",
       "      <th>Predicted 0</th>\n",
       "      <th>Predicted 1</th>\n",
       "    </tr>\n",
       "  </thead>\n",
       "  <tbody>\n",
       "    <tr>\n",
       "      <th>Actual 0</th>\n",
       "      <td>26410</td>\n",
       "      <td>1986</td>\n",
       "    </tr>\n",
       "    <tr>\n",
       "      <th>Actual 1</th>\n",
       "      <td>3273</td>\n",
       "      <td>4696</td>\n",
       "    </tr>\n",
       "  </tbody>\n",
       "</table>\n",
       "</div>"
      ],
      "text/plain": [
       "          Predicted 0  Predicted 1\n",
       "Actual 0        26410         1986\n",
       "Actual 1         3273         4696"
      ]
     },
     "execution_count": 59,
     "metadata": {},
     "output_type": "execute_result"
    }
   ],
   "source": [
    "# Calculating the confusion matrix.\n",
    "cm = confusion_matrix(y_test, y_pred)\n",
    "\n",
    "# Create a DataFrame from the confusion matrix.\n",
    "cm_df = pd.DataFrame(\n",
    "    cm, index=[\"Actual 0\", \"Actual 1\"], columns=[\"Predicted 0\", \"Predicted 1\"])\n",
    "\n",
    "cm_df"
   ]
  },
  {
   "cell_type": "code",
   "execution_count": 60,
   "id": "c0568a83",
   "metadata": {},
   "outputs": [
    {
     "name": "stdout",
     "output_type": "stream",
     "text": [
      "                   pre       rec       spe        f1       geo       iba       sup\n",
      "\n",
      "          0       0.89      0.93      0.59      0.91      0.74      0.57     28396\n",
      "          1       0.70      0.59      0.93      0.64      0.74      0.53      7969\n",
      "\n",
      "avg / total       0.85      0.86      0.66      0.85      0.74      0.56     36365\n",
      "\n"
     ]
    }
   ],
   "source": [
    "# Print the imbalanced classification report\n",
    "print(classification_report_imbalanced(y_test, y_pred))"
   ]
  },
  {
   "cell_type": "code",
   "execution_count": 63,
   "id": "e381b3cb",
   "metadata": {},
   "outputs": [
    {
     "data": {
      "text/plain": [
       "0.7596720226855964"
      ]
     },
     "execution_count": 63,
     "metadata": {},
     "output_type": "execute_result"
    }
   ],
   "source": [
    "# Calculated the balanced accuracy score\n",
    "# YOUR CODE HERE\n",
    "balanced_accuracy_score(y_test, y_pred)"
   ]
  },
  {
   "cell_type": "code",
   "execution_count": 64,
   "id": "2903d7d6",
   "metadata": {},
   "outputs": [
    {
     "name": "stdout",
     "output_type": "stream",
     "text": [
      "humidity3pm: (0.13147799051536013)\n",
      "rainfall: (0.054335376043943014)\n",
      "pressure3pm: (0.05428843278952163)\n",
      "sunshine: (0.052716939932007885)\n",
      "pressure9am: (0.04714242641615987)\n",
      "humidity9am: (0.04639636028500752)\n",
      "windgustspeed: (0.044614881480220386)\n",
      "temp3pm: (0.04333910974386372)\n",
      "maxtemp: (0.04022938064773795)\n",
      "mintemp: (0.03961251068869094)\n",
      "temp9am: (0.03604760935725116)\n",
      "cloud3pm: (0.035567297512368624)\n",
      "day: (0.027684850005469434)\n",
      "windspeed3pm: (0.027512714871441416)\n",
      "cloud9am: (0.02576808461471423)\n",
      "windspeed9am: (0.024350635342682732)\n",
      "month: (0.022154282322030306)\n",
      "raintoday: (0.02189657528769445)\n",
      "year: (0.02045546051577401)\n",
      "evaporation: (0.020425136122611553)\n",
      "winddir9am_N: (0.0038371284480526935)\n",
      "winddir3pm_N: (0.0032232754909055695)\n",
      "winddir3pm_NW: (0.003164157946784621)\n",
      "windgustdir_N: (0.0030740378572573722)\n",
      "winddir9am_NNE: (0.003031726431878139)\n",
      "windgustdir_NW: (0.002910626742549922)\n",
      "winddir3pm_NNW: (0.002896385976816974)\n",
      "winddir9am_NW: (0.002882887409957824)\n",
      "winddir3pm_WNW: (0.002879777739137733)\n",
      "winddir3pm_W: (0.00281942846111614)\n",
      "winddir3pm_SE: (0.0027939346568941143)\n",
      "windgustdir_W: (0.002774388028084312)\n",
      "winddir3pm_NE: (0.0027587607503046286)\n",
      "windgustdir_NNW: (0.002749636200865391)\n",
      "winddir3pm_S: (0.0027438599531867686)\n",
      "winddir9am_WNW: (0.00272161832836766)\n",
      "windgustdir_S: (0.00272093065335067)\n",
      "winddir9am_NNW: (0.0026940918837878576)\n",
      "winddir9am_W: (0.0026601431773538866)\n",
      "windgustdir_WNW: (0.0026138792081065237)\n",
      "winddir9am_SSW: (0.0025714500605804763)\n",
      "windgustdir_SSW: (0.0025706064771969296)\n",
      "winddir3pm_WSW: (0.0025526742697810755)\n",
      "winddir9am_S: (0.0025449676456413047)\n",
      "winddir9am_SW: (0.002539370527818708)\n",
      "winddir3pm_SSE: (0.002531751447867811)\n",
      "winddir3pm_SW: (0.002525468270272785)\n",
      "windgustdir_WSW: (0.0025006792432936092)\n",
      "winddir3pm_NNE: (0.0024873532670066233)\n",
      "windgustdir_SW: (0.002475858492029569)\n",
      "winddir9am_SE: (0.0024636083432910193)\n",
      "windgustdir_SE: (0.0024592982483935774)\n",
      "winddir9am_NE: (0.0024431664419946636)\n",
      "winddir9am_WSW: (0.0024252849047670553)\n",
      "windgustdir_SSE: (0.0023864658449559532)\n",
      "windgustdir_NNE: (0.0023681867169820284)\n",
      "winddir3pm_E: (0.002319314456342746)\n",
      "winddir3pm_SSW: (0.0023066172357924953)\n",
      "winddir9am_SSE: (0.0022920614289136114)\n",
      "winddir3pm_ESE: (0.002290080230425074)\n",
      "windgustdir_E: (0.002278365886949712)\n",
      "windgustdir_NE: (0.002264215216985225)\n",
      "windgustdir_9999: (0.0022196970897779213)\n",
      "winddir9am_9999: (0.0021696239743606432)\n",
      "winddir9am_ENE: (0.0021464068479560075)\n",
      "winddir9am_E: (0.002112913295666197)\n",
      "winddir3pm_ENE: (0.0020687682497932875)\n",
      "windgustdir_ENE: (0.0020380043150742266)\n",
      "winddir9am_ESE: (0.0020114792016240135)\n",
      "windgustdir_ESE: (0.0018926758006109193)\n",
      "location_Melbourne: (0.001687296258173126)\n",
      "location_Wollongong: (0.0015944676760273504)\n",
      "location_Williamtown: (0.0015608546856460761)\n",
      "location_CoffsHarbour: (0.0015570724687582276)\n",
      "location_Portland: (0.0014567405215869978)\n",
      "location_Sale: (0.0014542090899622281)\n",
      "location_Canberra: (0.001434755463869766)\n",
      "location_Walpole: (0.001421269435128395)\n",
      "location_NorahHead: (0.0014185589221623425)\n",
      "location_NorfolkIsland: (0.0013978509761579253)\n",
      "location_Sydney: (0.0013581243620460909)\n",
      "location_Witchcliffe: (0.0013241757331254227)\n",
      "location_Richmond: (0.0012955569638880878)\n",
      "location_MountGambier: (0.0012673807568187284)\n",
      "location_Albany: (0.0012509678208682973)\n",
      "location_Tuggeranong: (0.0012375150762672983)\n",
      "location_Hobart: (0.0011956056975496528)\n",
      "location_SydneyAirport: (0.0011910840966909409)\n",
      "location_Launceston: (0.0011656117550356943)\n",
      "location_WaggaWagga: (0.0011593324198678654)\n",
      "location_Adelaide: (0.0011540230847844853)\n",
      "location_Dartmoor: (0.001144480534747539)\n",
      "location_Ballarat: (0.001143379886246347)\n",
      "location_Albury: (0.001137515033595935)\n",
      "winddir3pm_9999: (0.0011093564816020006)\n",
      "location_MelbourneAirport: (0.0010960018096803786)\n",
      "location_Watsonia: (0.0010958457916549601)\n",
      "location_BadgerysCreek: (0.0010942949965129598)\n",
      "location_Cairns: (0.0010923775666412288)\n",
      "location_Brisbane: (0.0010746552037892065)\n",
      "location_PearceRAAF: (0.0010688828656314087)\n",
      "location_Woomera: (0.0010458751271121263)\n",
      "location_Bendigo: (0.0010025244820940581)\n",
      "location_Nuriootpa: (0.0009888207322472056)\n",
      "location_Cobar: (0.000987020832148436)\n",
      "location_SalmonGums: (0.0009751147018631005)\n",
      "location_Perth: (0.0009684685435021238)\n",
      "location_Moree: (0.0009478714376202783)\n",
      "location_Mildura: (0.0009333138079122422)\n",
      "location_GoldCoast: (0.0009308919071043168)\n",
      "location_Penrith: (0.0009134588620845802)\n",
      "location_PerthAirport: (0.0008833892593085927)\n",
      "location_MountGinini: (0.0008688854304215346)\n",
      "location_AliceSprings: (0.0008630781988433127)\n",
      "location_Townsville: (0.0008431195632826328)\n",
      "location_Newcastle: (0.0007468512543208239)\n",
      "location_Darwin: (0.0006154844369925598)\n",
      "location_Nhil: (0.0006020275116906534)\n",
      "location_Katherine: (0.0005227701325464821)\n",
      "location_Uluru: (0.0004986470729328625)\n"
     ]
    }
   ],
   "source": [
    "# List the features sorted in descending order by feature importance\n",
    "importances = rf_model.feature_importances_\n",
    "for importance, feat in sorted(zip(rf_model.feature_importances_, X.columns), reverse=True):\n",
    "    print(f'{feat}: ({importance})')"
   ]
  },
  {
   "cell_type": "code",
   "execution_count": 70,
   "id": "9bf30293",
   "metadata": {},
   "outputs": [
    {
     "data": {
      "image/png": "[encoded data removed]",
      "text/plain": [
       "<Figure size 432x288 with 1 Axes>"
      ]
     },
     "metadata": {
      "needs_background": "light"
     },
     "output_type": "display_data"
    },
    {
     "name": "stdout",
     "output_type": "stream",
     "text": [
      "mintemp           0.039613\n",
      "maxtemp           0.040229\n",
      "evaporation       0.054335\n",
      "sunshine          0.020425\n",
      "windgustspeed     0.052717\n",
      "                    ...   \n",
      "winddir3pm_SSW    0.002307\n",
      "winddir3pm_SW     0.002525\n",
      "winddir3pm_W      0.002819\n",
      "winddir3pm_WNW    0.002880\n",
      "winddir3pm_WSW    0.002553\n",
      "Length: 120, dtype: float64\n"
     ]
    }
   ],
   "source": [
    "feat_importance = pd.Series(rf_model.feature_importances_, index=X.columns)\n",
    "feat_importance.plot(kind='barh')\n",
    "plt.title('Feature Importances')\n",
    "plt.show()\n",
    "print(feat_importance)"
   ]
  },
  {
   "cell_type": "code",
   "execution_count": 74,
   "id": "d8541686",
   "metadata": {},
   "outputs": [
    {
     "ename": "ValueError",
     "evalue": "continuous is not supported",
     "output_type": "error",
     "traceback": [
      "\u001b[1;31m---------------------------------------------------------------------------\u001b[0m",
      "\u001b[1;31mValueError\u001b[0m                                Traceback (most recent call last)",
      "\u001b[1;32m<ipython-input-74-2af291a86432>\u001b[0m in \u001b[0;36m<module>\u001b[1;34m\u001b[0m\n\u001b[0;32m      1\u001b[0m \u001b[1;32mfrom\u001b[0m \u001b[0msklearn\u001b[0m\u001b[1;33m.\u001b[0m\u001b[0mmetrics\u001b[0m \u001b[1;32mimport\u001b[0m \u001b[0mprecision_score\u001b[0m\u001b[1;33m\u001b[0m\u001b[1;33m\u001b[0m\u001b[0m\n\u001b[1;32m----> 2\u001b[1;33m \u001b[0mprecision_score\u001b[0m\u001b[1;33m(\u001b[0m\u001b[0my_test\u001b[0m\u001b[1;33m,\u001b[0m \u001b[0my_pred\u001b[0m\u001b[1;33m)\u001b[0m\u001b[1;33m\u001b[0m\u001b[1;33m\u001b[0m\u001b[0m\n\u001b[0m",
      "\u001b[1;32m~\\anaconda3\\envs\\mlenv\\lib\\site-packages\\sklearn\\utils\\validation.py\u001b[0m in \u001b[0;36minner_f\u001b[1;34m(*args, **kwargs)\u001b[0m\n\u001b[0;32m     61\u001b[0m             \u001b[0mextra_args\u001b[0m \u001b[1;33m=\u001b[0m \u001b[0mlen\u001b[0m\u001b[1;33m(\u001b[0m\u001b[0margs\u001b[0m\u001b[1;33m)\u001b[0m \u001b[1;33m-\u001b[0m \u001b[0mlen\u001b[0m\u001b[1;33m(\u001b[0m\u001b[0mall_args\u001b[0m\u001b[1;33m)\u001b[0m\u001b[1;33m\u001b[0m\u001b[1;33m\u001b[0m\u001b[0m\n\u001b[0;32m     62\u001b[0m             \u001b[1;32mif\u001b[0m \u001b[0mextra_args\u001b[0m \u001b[1;33m<=\u001b[0m \u001b[1;36m0\u001b[0m\u001b[1;33m:\u001b[0m\u001b[1;33m\u001b[0m\u001b[1;33m\u001b[0m\u001b[0m\n\u001b[1;32m---> 63\u001b[1;33m                 \u001b[1;32mreturn\u001b[0m \u001b[0mf\u001b[0m\u001b[1;33m(\u001b[0m\u001b[1;33m*\u001b[0m\u001b[0margs\u001b[0m\u001b[1;33m,\u001b[0m \u001b[1;33m**\u001b[0m\u001b[0mkwargs\u001b[0m\u001b[1;33m)\u001b[0m\u001b[1;33m\u001b[0m\u001b[1;33m\u001b[0m\u001b[0m\n\u001b[0m\u001b[0;32m     64\u001b[0m \u001b[1;33m\u001b[0m\u001b[0m\n\u001b[0;32m     65\u001b[0m             \u001b[1;31m# extra_args > 0\u001b[0m\u001b[1;33m\u001b[0m\u001b[1;33m\u001b[0m\u001b[1;33m\u001b[0m\u001b[0m\n",
      "\u001b[1;32m~\\anaconda3\\envs\\mlenv\\lib\\site-packages\\sklearn\\metrics\\_classification.py\u001b[0m in \u001b[0;36mprecision_score\u001b[1;34m(y_true, y_pred, labels, pos_label, average, sample_weight, zero_division)\u001b[0m\n\u001b[0;32m   1657\u001b[0m                                                  \u001b[0mwarn_for\u001b[0m\u001b[1;33m=\u001b[0m\u001b[1;33m(\u001b[0m\u001b[1;34m'precision'\u001b[0m\u001b[1;33m,\u001b[0m\u001b[1;33m)\u001b[0m\u001b[1;33m,\u001b[0m\u001b[1;33m\u001b[0m\u001b[1;33m\u001b[0m\u001b[0m\n\u001b[0;32m   1658\u001b[0m                                                  \u001b[0msample_weight\u001b[0m\u001b[1;33m=\u001b[0m\u001b[0msample_weight\u001b[0m\u001b[1;33m,\u001b[0m\u001b[1;33m\u001b[0m\u001b[1;33m\u001b[0m\u001b[0m\n\u001b[1;32m-> 1659\u001b[1;33m                                                  zero_division=zero_division)\n\u001b[0m\u001b[0;32m   1660\u001b[0m     \u001b[1;32mreturn\u001b[0m \u001b[0mp\u001b[0m\u001b[1;33m\u001b[0m\u001b[1;33m\u001b[0m\u001b[0m\n\u001b[0;32m   1661\u001b[0m \u001b[1;33m\u001b[0m\u001b[0m\n",
      "\u001b[1;32m~\\anaconda3\\envs\\mlenv\\lib\\site-packages\\sklearn\\utils\\validation.py\u001b[0m in \u001b[0;36minner_f\u001b[1;34m(*args, **kwargs)\u001b[0m\n\u001b[0;32m     61\u001b[0m             \u001b[0mextra_args\u001b[0m \u001b[1;33m=\u001b[0m \u001b[0mlen\u001b[0m\u001b[1;33m(\u001b[0m\u001b[0margs\u001b[0m\u001b[1;33m)\u001b[0m \u001b[1;33m-\u001b[0m \u001b[0mlen\u001b[0m\u001b[1;33m(\u001b[0m\u001b[0mall_args\u001b[0m\u001b[1;33m)\u001b[0m\u001b[1;33m\u001b[0m\u001b[1;33m\u001b[0m\u001b[0m\n\u001b[0;32m     62\u001b[0m             \u001b[1;32mif\u001b[0m \u001b[0mextra_args\u001b[0m \u001b[1;33m<=\u001b[0m \u001b[1;36m0\u001b[0m\u001b[1;33m:\u001b[0m\u001b[1;33m\u001b[0m\u001b[1;33m\u001b[0m\u001b[0m\n\u001b[1;32m---> 63\u001b[1;33m                 \u001b[1;32mreturn\u001b[0m \u001b[0mf\u001b[0m\u001b[1;33m(\u001b[0m\u001b[1;33m*\u001b[0m\u001b[0margs\u001b[0m\u001b[1;33m,\u001b[0m \u001b[1;33m**\u001b[0m\u001b[0mkwargs\u001b[0m\u001b[1;33m)\u001b[0m\u001b[1;33m\u001b[0m\u001b[1;33m\u001b[0m\u001b[0m\n\u001b[0m\u001b[0;32m     64\u001b[0m \u001b[1;33m\u001b[0m\u001b[0m\n\u001b[0;32m     65\u001b[0m             \u001b[1;31m# extra_args > 0\u001b[0m\u001b[1;33m\u001b[0m\u001b[1;33m\u001b[0m\u001b[1;33m\u001b[0m\u001b[0m\n",
      "\u001b[1;32m~\\anaconda3\\envs\\mlenv\\lib\\site-packages\\sklearn\\metrics\\_classification.py\u001b[0m in \u001b[0;36mprecision_recall_fscore_support\u001b[1;34m(y_true, y_pred, beta, labels, pos_label, average, warn_for, sample_weight, zero_division)\u001b[0m\n\u001b[0;32m   1460\u001b[0m         \u001b[1;32mraise\u001b[0m \u001b[0mValueError\u001b[0m\u001b[1;33m(\u001b[0m\u001b[1;34m\"beta should be >=0 in the F-beta score\"\u001b[0m\u001b[1;33m)\u001b[0m\u001b[1;33m\u001b[0m\u001b[1;33m\u001b[0m\u001b[0m\n\u001b[0;32m   1461\u001b[0m     labels = _check_set_wise_labels(y_true, y_pred, average, labels,\n\u001b[1;32m-> 1462\u001b[1;33m                                     pos_label)\n\u001b[0m\u001b[0;32m   1463\u001b[0m \u001b[1;33m\u001b[0m\u001b[0m\n\u001b[0;32m   1464\u001b[0m     \u001b[1;31m# Calculate tp_sum, pred_sum, true_sum ###\u001b[0m\u001b[1;33m\u001b[0m\u001b[1;33m\u001b[0m\u001b[1;33m\u001b[0m\u001b[0m\n",
      "\u001b[1;32m~\\anaconda3\\envs\\mlenv\\lib\\site-packages\\sklearn\\metrics\\_classification.py\u001b[0m in \u001b[0;36m_check_set_wise_labels\u001b[1;34m(y_true, y_pred, average, labels, pos_label)\u001b[0m\n\u001b[0;32m   1272\u001b[0m                          str(average_options))\n\u001b[0;32m   1273\u001b[0m \u001b[1;33m\u001b[0m\u001b[0m\n\u001b[1;32m-> 1274\u001b[1;33m     \u001b[0my_type\u001b[0m\u001b[1;33m,\u001b[0m \u001b[0my_true\u001b[0m\u001b[1;33m,\u001b[0m \u001b[0my_pred\u001b[0m \u001b[1;33m=\u001b[0m \u001b[0m_check_targets\u001b[0m\u001b[1;33m(\u001b[0m\u001b[0my_true\u001b[0m\u001b[1;33m,\u001b[0m \u001b[0my_pred\u001b[0m\u001b[1;33m)\u001b[0m\u001b[1;33m\u001b[0m\u001b[1;33m\u001b[0m\u001b[0m\n\u001b[0m\u001b[0;32m   1275\u001b[0m     \u001b[1;31m# Convert to Python primitive type to avoid NumPy type / Python str\u001b[0m\u001b[1;33m\u001b[0m\u001b[1;33m\u001b[0m\u001b[1;33m\u001b[0m\u001b[0m\n\u001b[0;32m   1276\u001b[0m     \u001b[1;31m# comparison. See https://github.com/numpy/numpy/issues/6784\u001b[0m\u001b[1;33m\u001b[0m\u001b[1;33m\u001b[0m\u001b[1;33m\u001b[0m\u001b[0m\n",
      "\u001b[1;32m~\\anaconda3\\envs\\mlenv\\lib\\site-packages\\sklearn\\metrics\\_classification.py\u001b[0m in \u001b[0;36m_check_targets\u001b[1;34m(y_true, y_pred)\u001b[0m\n\u001b[0;32m     98\u001b[0m     \u001b[1;31m# No metrics support \"multiclass-multioutput\" format\u001b[0m\u001b[1;33m\u001b[0m\u001b[1;33m\u001b[0m\u001b[1;33m\u001b[0m\u001b[0m\n\u001b[0;32m     99\u001b[0m     \u001b[1;32mif\u001b[0m \u001b[1;33m(\u001b[0m\u001b[0my_type\u001b[0m \u001b[1;32mnot\u001b[0m \u001b[1;32min\u001b[0m \u001b[1;33m[\u001b[0m\u001b[1;34m\"binary\"\u001b[0m\u001b[1;33m,\u001b[0m \u001b[1;34m\"multiclass\"\u001b[0m\u001b[1;33m,\u001b[0m \u001b[1;34m\"multilabel-indicator\"\u001b[0m\u001b[1;33m]\u001b[0m\u001b[1;33m)\u001b[0m\u001b[1;33m:\u001b[0m\u001b[1;33m\u001b[0m\u001b[1;33m\u001b[0m\u001b[0m\n\u001b[1;32m--> 100\u001b[1;33m         \u001b[1;32mraise\u001b[0m \u001b[0mValueError\u001b[0m\u001b[1;33m(\u001b[0m\u001b[1;34m\"{0} is not supported\"\u001b[0m\u001b[1;33m.\u001b[0m\u001b[0mformat\u001b[0m\u001b[1;33m(\u001b[0m\u001b[0my_type\u001b[0m\u001b[1;33m)\u001b[0m\u001b[1;33m)\u001b[0m\u001b[1;33m\u001b[0m\u001b[1;33m\u001b[0m\u001b[0m\n\u001b[0m\u001b[0;32m    101\u001b[0m \u001b[1;33m\u001b[0m\u001b[0m\n\u001b[0;32m    102\u001b[0m     \u001b[1;32mif\u001b[0m \u001b[0my_type\u001b[0m \u001b[1;32min\u001b[0m \u001b[1;33m[\u001b[0m\u001b[1;34m\"binary\"\u001b[0m\u001b[1;33m,\u001b[0m \u001b[1;34m\"multiclass\"\u001b[0m\u001b[1;33m]\u001b[0m\u001b[1;33m:\u001b[0m\u001b[1;33m\u001b[0m\u001b[1;33m\u001b[0m\u001b[0m\n",
      "\u001b[1;31mValueError\u001b[0m: continuous is not supported"
     ]
    }
   ],
   "source": [
    "from sklearn.metrics import precision_score\n",
    "precision_score(y_test, y_pred)"
   ]
  },
  {
   "cell_type": "code",
   "execution_count": null,
   "id": "bdf1770f",
   "metadata": {},
   "outputs": [],
   "source": []
  },
  {
   "cell_type": "code",
   "execution_count": 66,
   "id": "d1e3489f",
   "metadata": {},
   "outputs": [
    {
     "data": {
      "text/plain": [
       "LinearRegression()"
      ]
     },
     "execution_count": 66,
     "metadata": {},
     "output_type": "execute_result"
    }
   ],
   "source": [
    "from sklearn.linear_model import LinearRegression\n",
    "\n",
    "X = df.copy()\n",
    "X = X.drop(\"rainfall\", axis=1)\n",
    "y = df[\"rainfall\"]\n",
    "\n",
    "\n",
    "# Split training/test datasets\n",
    "X_train, X_test, y_train, y_test = train_test_split(X, y, random_state=42)\n",
    "\n",
    "lr = LinearRegression()\n",
    "lr.fit(X, y)"
   ]
  },
  {
   "cell_type": "code",
   "execution_count": 67,
   "id": "7e55b389",
   "metadata": {},
   "outputs": [],
   "source": [
    "y_pred = lr.predict(X_test)"
   ]
  },
  {
   "cell_type": "code",
   "execution_count": 68,
   "id": "c40192df",
   "metadata": {},
   "outputs": [
    {
     "data": {
      "text/plain": [
       "array([ -26.10506105,  260.25539827, 1056.05411482, ..., -274.70261526,\n",
       "        155.68183851,  214.94837523])"
      ]
     },
     "execution_count": 68,
     "metadata": {},
     "output_type": "execute_result"
    }
   ],
   "source": [
    "y_pred"
   ]
  },
  {
   "cell_type": "code",
   "execution_count": 40,
   "id": "4eb551b3",
   "metadata": {},
   "outputs": [
    {
     "ename": "NameError",
     "evalue": "name 'classification_report' is not defined",
     "output_type": "error",
     "traceback": [
      "\u001b[1;31m---------------------------------------------------------------------------\u001b[0m",
      "\u001b[1;31mNameError\u001b[0m                                 Traceback (most recent call last)",
      "\u001b[1;32m<ipython-input-40-7a9df2c2e15b>\u001b[0m in \u001b[0;36m<module>\u001b[1;34m\u001b[0m\n\u001b[0;32m      1\u001b[0m \u001b[1;31m# Print the imbalanced classification report\u001b[0m\u001b[1;33m\u001b[0m\u001b[1;33m\u001b[0m\u001b[1;33m\u001b[0m\u001b[0m\n\u001b[1;32m----> 2\u001b[1;33m \u001b[0mprint\u001b[0m\u001b[1;33m(\u001b[0m\u001b[0mclassification_report\u001b[0m\u001b[1;33m(\u001b[0m\u001b[0my_test\u001b[0m\u001b[1;33m,\u001b[0m \u001b[0my_pred\u001b[0m\u001b[1;33m)\u001b[0m\u001b[1;33m)\u001b[0m\u001b[1;33m\u001b[0m\u001b[1;33m\u001b[0m\u001b[0m\n\u001b[0m",
      "\u001b[1;31mNameError\u001b[0m: name 'classification_report' is not defined"
     ]
    }
   ],
   "source": [
    "# Print the imbalanced classification report\n",
    "print(classification_report_imbalanced(y_test, y_pred))"
   ]
  },
  {
   "cell_type": "code",
   "execution_count": null,
   "id": "da6206fd",
   "metadata": {},
   "outputs": [],
   "source": []
  }
 ],
 "metadata": {
  "kernelspec": {
   "display_name": "mlenv",
   "language": "python",
   "name": "mlenv"
  },
  "language_info": {
   "codemirror_mode": {
    "name": "ipython",
    "version": 3
   },
   "file_extension": ".py",
   "mimetype": "text/x-python",
   "name": "python",
   "nbconvert_exporter": "python",
   "pygments_lexer": "ipython3",
   "version": "3.7.10"
  }
 },
 "nbformat": 4,
 "nbformat_minor": 5
}
