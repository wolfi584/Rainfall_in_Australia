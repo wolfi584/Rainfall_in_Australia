{
 "cells": [
  {
   "cell_type": "code",
   "execution_count": 1,
   "id": "2c7f1b98",
   "metadata": {},
   "outputs": [],
   "source": [
    "import warnings\n",
    "warnings.filterwarnings('ignore')"
   ]
  },
  {
   "cell_type": "code",
   "execution_count": null,
   "id": "ad35e6d0",
   "metadata": {},
   "outputs": [],
   "source": [
    "import numpy as np\n",
    "import pandas as pd\n",
    "\n",
    "from sklearn.model_selection import train_test_split\n",
    "from sklearn.metrics import balanced_accuracy_score\n",
    "from sklearn.metrics import confusion_matrix\n",
    "from imblearn.metrics import classification_report_imbalanced"
   ]
  },
  {
   "cell_type": "markdown",
   "id": "abb0e5c7",
   "metadata": {},
   "source": [
    "## Data Loading and Preprocessing"
   ]
  },
  {
   "cell_type": "code",
   "execution_count": 7,
   "id": "48a216b0",
   "metadata": {},
   "outputs": [
    {
     "data": {
      "text/html": [
       "<div>\n",
       "<style scoped>\n",
       "    .dataframe tbody tr th:only-of-type {\n",
       "        vertical-align: middle;\n",
       "    }\n",
       "\n",
       "    .dataframe tbody tr th {\n",
       "        vertical-align: top;\n",
       "    }\n",
       "\n",
       "    .dataframe thead th {\n",
       "        text-align: right;\n",
       "    }\n",
       "</style>\n",
       "<table border=\"1\" class=\"dataframe\">\n",
       "  <thead>\n",
       "    <tr style=\"text-align: right;\">\n",
       "      <th></th>\n",
       "      <th>1/1/2015</th>\n",
       "      <th>Albury</th>\n",
       "      <th>11.4</th>\n",
       "      <th>33.5</th>\n",
       "      <th>0</th>\n",
       "      <th>NA</th>\n",
       "      <th>NA.1</th>\n",
       "      <th>WSW</th>\n",
       "      <th>30</th>\n",
       "      <th>ESE</th>\n",
       "      <th>...</th>\n",
       "      <th>45</th>\n",
       "      <th>14</th>\n",
       "      <th>1013.5</th>\n",
       "      <th>1011</th>\n",
       "      <th>NA.2</th>\n",
       "      <th>NA.3</th>\n",
       "      <th>21</th>\n",
       "      <th>32.7</th>\n",
       "      <th>No</th>\n",
       "      <th>No.1</th>\n",
       "    </tr>\n",
       "  </thead>\n",
       "  <tbody>\n",
       "    <tr>\n",
       "      <th>0</th>\n",
       "      <td>1/2/2015</td>\n",
       "      <td>Albury</td>\n",
       "      <td>15.5</td>\n",
       "      <td>39.6</td>\n",
       "      <td>0.0</td>\n",
       "      <td>NaN</td>\n",
       "      <td>NaN</td>\n",
       "      <td>NE</td>\n",
       "      <td>56.0</td>\n",
       "      <td>ESE</td>\n",
       "      <td>...</td>\n",
       "      <td>45.0</td>\n",
       "      <td>12.0</td>\n",
       "      <td>1016.0</td>\n",
       "      <td>1012.4</td>\n",
       "      <td>NaN</td>\n",
       "      <td>NaN</td>\n",
       "      <td>25.6</td>\n",
       "      <td>38.2</td>\n",
       "      <td>No</td>\n",
       "      <td>No</td>\n",
       "    </tr>\n",
       "    <tr>\n",
       "      <th>1</th>\n",
       "      <td>1/3/2015</td>\n",
       "      <td>Albury</td>\n",
       "      <td>17.1</td>\n",
       "      <td>38.3</td>\n",
       "      <td>0.0</td>\n",
       "      <td>NaN</td>\n",
       "      <td>NaN</td>\n",
       "      <td>NNE</td>\n",
       "      <td>48.0</td>\n",
       "      <td>NE</td>\n",
       "      <td>...</td>\n",
       "      <td>35.0</td>\n",
       "      <td>19.0</td>\n",
       "      <td>1017.9</td>\n",
       "      <td>1012.3</td>\n",
       "      <td>NaN</td>\n",
       "      <td>NaN</td>\n",
       "      <td>29.2</td>\n",
       "      <td>37.0</td>\n",
       "      <td>No</td>\n",
       "      <td>No</td>\n",
       "    </tr>\n",
       "    <tr>\n",
       "      <th>2</th>\n",
       "      <td>1/4/2015</td>\n",
       "      <td>Albury</td>\n",
       "      <td>26.0</td>\n",
       "      <td>33.1</td>\n",
       "      <td>0.0</td>\n",
       "      <td>NaN</td>\n",
       "      <td>NaN</td>\n",
       "      <td>NNE</td>\n",
       "      <td>41.0</td>\n",
       "      <td>ESE</td>\n",
       "      <td>...</td>\n",
       "      <td>46.0</td>\n",
       "      <td>37.0</td>\n",
       "      <td>1013.6</td>\n",
       "      <td>1012.1</td>\n",
       "      <td>8.0</td>\n",
       "      <td>5.0</td>\n",
       "      <td>27.4</td>\n",
       "      <td>30.9</td>\n",
       "      <td>No</td>\n",
       "      <td>No</td>\n",
       "    </tr>\n",
       "    <tr>\n",
       "      <th>3</th>\n",
       "      <td>1/5/2015</td>\n",
       "      <td>Albury</td>\n",
       "      <td>19.0</td>\n",
       "      <td>35.2</td>\n",
       "      <td>0.0</td>\n",
       "      <td>NaN</td>\n",
       "      <td>NaN</td>\n",
       "      <td>E</td>\n",
       "      <td>33.0</td>\n",
       "      <td>SSE</td>\n",
       "      <td>...</td>\n",
       "      <td>60.0</td>\n",
       "      <td>34.0</td>\n",
       "      <td>1017.4</td>\n",
       "      <td>1014.7</td>\n",
       "      <td>8.0</td>\n",
       "      <td>NaN</td>\n",
       "      <td>25.6</td>\n",
       "      <td>32.5</td>\n",
       "      <td>No</td>\n",
       "      <td>No</td>\n",
       "    </tr>\n",
       "    <tr>\n",
       "      <th>4</th>\n",
       "      <td>1/6/2015</td>\n",
       "      <td>Albury</td>\n",
       "      <td>20.5</td>\n",
       "      <td>36.1</td>\n",
       "      <td>0.0</td>\n",
       "      <td>NaN</td>\n",
       "      <td>NaN</td>\n",
       "      <td>NE</td>\n",
       "      <td>39.0</td>\n",
       "      <td>ESE</td>\n",
       "      <td>...</td>\n",
       "      <td>54.0</td>\n",
       "      <td>25.0</td>\n",
       "      <td>1019.1</td>\n",
       "      <td>1016.0</td>\n",
       "      <td>NaN</td>\n",
       "      <td>NaN</td>\n",
       "      <td>27.3</td>\n",
       "      <td>34.6</td>\n",
       "      <td>No</td>\n",
       "      <td>No</td>\n",
       "    </tr>\n",
       "  </tbody>\n",
       "</table>\n",
       "<p>5 rows × 23 columns</p>\n",
       "</div>"
      ],
      "text/plain": [
       "   1/1/2015  Albury  11.4  33.5    0  NA  NA.1  WSW    30  ESE  ...    45  \\\n",
       "0  1/2/2015  Albury  15.5  39.6  0.0 NaN   NaN   NE  56.0  ESE  ...  45.0   \n",
       "1  1/3/2015  Albury  17.1  38.3  0.0 NaN   NaN  NNE  48.0   NE  ...  35.0   \n",
       "2  1/4/2015  Albury  26.0  33.1  0.0 NaN   NaN  NNE  41.0  ESE  ...  46.0   \n",
       "3  1/5/2015  Albury  19.0  35.2  0.0 NaN   NaN    E  33.0  SSE  ...  60.0   \n",
       "4  1/6/2015  Albury  20.5  36.1  0.0 NaN   NaN   NE  39.0  ESE  ...  54.0   \n",
       "\n",
       "     14  1013.5    1011  NA.2  NA.3    21  32.7  No  No.1  \n",
       "0  12.0  1016.0  1012.4   NaN   NaN  25.6  38.2  No    No  \n",
       "1  19.0  1017.9  1012.3   NaN   NaN  29.2  37.0  No    No  \n",
       "2  37.0  1013.6  1012.1   8.0   5.0  27.4  30.9  No    No  \n",
       "3  34.0  1017.4  1014.7   8.0   NaN  25.6  32.5  No    No  \n",
       "4  25.0  1019.1  1016.0   NaN   NaN  27.3  34.6  No    No  \n",
       "\n",
       "[5 rows x 23 columns]"
      ]
     },
     "execution_count": 7,
     "metadata": {},
     "output_type": "execute_result"
    }
   ],
   "source": [
    "# Load the data\n",
    "file_path = 'Resources/weatherAUS_Sample.csv'\n",
    "df = pd.read_csv(file_path, skiprows=1)[:-2]\n",
    "df.head()"
   ]
  },
  {
   "cell_type": "markdown",
   "id": "3aedc7f8",
   "metadata": {},
   "source": [
    "## Encode Columns"
   ]
  },
  {
   "cell_type": "code",
   "execution_count": null,
   "id": "cb0f9d01",
   "metadata": {},
   "outputs": [],
   "source": []
  },
  {
   "cell_type": "markdown",
   "id": "542956be",
   "metadata": {},
   "source": [
    "## Variable Declaration and Split into Test/Train"
   ]
  },
  {
   "cell_type": "code",
   "execution_count": null,
   "id": "d21cb563",
   "metadata": {},
   "outputs": [],
   "source": []
  },
  {
   "cell_type": "code",
   "execution_count": null,
   "id": "d80c9f86",
   "metadata": {},
   "outputs": [],
   "source": []
  },
  {
   "cell_type": "markdown",
   "id": "c7a235a7",
   "metadata": {},
   "source": [
    "## Scale the Data"
   ]
  },
  {
   "cell_type": "code",
   "execution_count": null,
   "id": "3698c7d0",
   "metadata": {},
   "outputs": [],
   "source": []
  },
  {
   "cell_type": "code",
   "execution_count": null,
   "id": "d3c5c50e",
   "metadata": {},
   "outputs": [],
   "source": []
  },
  {
   "cell_type": "markdown",
   "id": "ee5cef1c",
   "metadata": {},
   "source": [
    "## Define/Evaluate Models"
   ]
  },
  {
   "cell_type": "code",
   "execution_count": null,
   "id": "fda76610",
   "metadata": {},
   "outputs": [],
   "source": []
  },
  {
   "cell_type": "code",
   "execution_count": null,
   "id": "1d9f6f33",
   "metadata": {},
   "outputs": [],
   "source": []
  },
  {
   "cell_type": "markdown",
   "id": "42f50293",
   "metadata": {},
   "source": [
    "## Fit/Transform "
   ]
  },
  {
   "cell_type": "code",
   "execution_count": null,
   "id": "eb737433",
   "metadata": {},
   "outputs": [],
   "source": []
  },
  {
   "cell_type": "markdown",
   "id": "fb003768",
   "metadata": {},
   "source": [
    "## Accuracy Report / Confusion Matrix / Classification Report"
   ]
  },
  {
   "cell_type": "code",
   "execution_count": null,
   "id": "459e0b76",
   "metadata": {},
   "outputs": [],
   "source": []
  }
 ],
 "metadata": {
  "kernelspec": {
   "display_name": "mlenv",
   "language": "python",
   "name": "mlenv"
  },
  "language_info": {
   "codemirror_mode": {
    "name": "ipython",
    "version": 3
   },
   "file_extension": ".py",
   "mimetype": "text/x-python",
   "name": "python",
   "nbconvert_exporter": "python",
   "pygments_lexer": "ipython3",
   "version": "3.7.10"
  }
 },
 "nbformat": 4,
 "nbformat_minor": 5
}
