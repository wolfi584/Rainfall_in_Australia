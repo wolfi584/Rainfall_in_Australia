{
 "cells": [
  {
   "cell_type": "code",
   "execution_count": 65,
   "id": "8363462f",
   "metadata": {},
   "outputs": [],
   "source": [
    "import warnings\n",
    "warnings.filterwarnings('ignore')"
   ]
  },
  {
   "cell_type": "code",
   "execution_count": 66,
   "id": "22d7fd6e",
   "metadata": {},
   "outputs": [],
   "source": [
    "import numpy as np\n",
    "import pandas as pd\n",
    "import datetime as dt\n",
    "import config as cfg\n",
    "\n",
    "from sqlalchemy import create_engine\n",
    "import psycopg2\n",
    "\n",
    "from sklearn.model_selection import train_test_split\n",
    "from sklearn.metrics import balanced_accuracy_score\n",
    "from sklearn.metrics import confusion_matrix\n",
    "from imblearn.metrics import classification_report_imbalanced"
   ]
  },
  {
   "cell_type": "markdown",
   "id": "99cb7d71",
   "metadata": {},
   "source": [
    "## Import Data from Postgre"
   ]
  },
  {
   "cell_type": "code",
   "execution_count": 67,
   "id": "528c8883",
   "metadata": {},
   "outputs": [
    {
     "data": {
      "text/html": [
       "<div>\n",
       "<style scoped>\n",
       "    .dataframe tbody tr th:only-of-type {\n",
       "        vertical-align: middle;\n",
       "    }\n",
       "\n",
       "    .dataframe tbody tr th {\n",
       "        vertical-align: top;\n",
       "    }\n",
       "\n",
       "    .dataframe thead th {\n",
       "        text-align: right;\n",
       "    }\n",
       "</style>\n",
       "<table border=\"1\" class=\"dataframe\">\n",
       "  <thead>\n",
       "    <tr style=\"text-align: right;\">\n",
       "      <th></th>\n",
       "      <th>date</th>\n",
       "      <th>location</th>\n",
       "      <th>mintemp</th>\n",
       "      <th>maxtemp</th>\n",
       "      <th>rainfall</th>\n",
       "      <th>evaporation</th>\n",
       "      <th>sunshine</th>\n",
       "      <th>windgustdir</th>\n",
       "      <th>windgustspeed</th>\n",
       "      <th>winddir9am</th>\n",
       "      <th>...</th>\n",
       "      <th>pressure3pm</th>\n",
       "      <th>cloud9am</th>\n",
       "      <th>cloud3pm</th>\n",
       "      <th>temp9am</th>\n",
       "      <th>temp3pm</th>\n",
       "      <th>raintoday</th>\n",
       "      <th>raintomorrow</th>\n",
       "      <th>year</th>\n",
       "      <th>month</th>\n",
       "      <th>day</th>\n",
       "    </tr>\n",
       "  </thead>\n",
       "  <tbody>\n",
       "    <tr>\n",
       "      <th>0</th>\n",
       "      <td>2011-01-01</td>\n",
       "      <td>Albury</td>\n",
       "      <td>23.2</td>\n",
       "      <td>35.8</td>\n",
       "      <td>0.0</td>\n",
       "      <td>9999.0</td>\n",
       "      <td>9999.0</td>\n",
       "      <td>ENE</td>\n",
       "      <td>26.0</td>\n",
       "      <td>S</td>\n",
       "      <td>...</td>\n",
       "      <td>1009.2</td>\n",
       "      <td>9999.0</td>\n",
       "      <td>9999.0</td>\n",
       "      <td>26.8</td>\n",
       "      <td>32.8</td>\n",
       "      <td>No</td>\n",
       "      <td>No</td>\n",
       "      <td>2011</td>\n",
       "      <td>1</td>\n",
       "      <td>1</td>\n",
       "    </tr>\n",
       "    <tr>\n",
       "      <th>1</th>\n",
       "      <td>2011-01-02</td>\n",
       "      <td>Albury</td>\n",
       "      <td>20.1</td>\n",
       "      <td>31.1</td>\n",
       "      <td>0.6</td>\n",
       "      <td>9999.0</td>\n",
       "      <td>9999.0</td>\n",
       "      <td>W</td>\n",
       "      <td>35.0</td>\n",
       "      <td>SW</td>\n",
       "      <td>...</td>\n",
       "      <td>1009.5</td>\n",
       "      <td>9999.0</td>\n",
       "      <td>9999.0</td>\n",
       "      <td>25.1</td>\n",
       "      <td>30.2</td>\n",
       "      <td>No</td>\n",
       "      <td>No</td>\n",
       "      <td>2011</td>\n",
       "      <td>1</td>\n",
       "      <td>2</td>\n",
       "    </tr>\n",
       "    <tr>\n",
       "      <th>2</th>\n",
       "      <td>2011-01-03</td>\n",
       "      <td>Albury</td>\n",
       "      <td>13.6</td>\n",
       "      <td>29.4</td>\n",
       "      <td>0.0</td>\n",
       "      <td>9999.0</td>\n",
       "      <td>9999.0</td>\n",
       "      <td>WNW</td>\n",
       "      <td>35.0</td>\n",
       "      <td>SSE</td>\n",
       "      <td>...</td>\n",
       "      <td>1009.3</td>\n",
       "      <td>9999.0</td>\n",
       "      <td>9999.0</td>\n",
       "      <td>20.2</td>\n",
       "      <td>28.4</td>\n",
       "      <td>No</td>\n",
       "      <td>No</td>\n",
       "      <td>2011</td>\n",
       "      <td>1</td>\n",
       "      <td>3</td>\n",
       "    </tr>\n",
       "    <tr>\n",
       "      <th>3</th>\n",
       "      <td>2011-01-04</td>\n",
       "      <td>Albury</td>\n",
       "      <td>13.9</td>\n",
       "      <td>29.2</td>\n",
       "      <td>0.0</td>\n",
       "      <td>9999.0</td>\n",
       "      <td>9999.0</td>\n",
       "      <td>SSE</td>\n",
       "      <td>24.0</td>\n",
       "      <td>SE</td>\n",
       "      <td>...</td>\n",
       "      <td>1007.8</td>\n",
       "      <td>9999.0</td>\n",
       "      <td>9999.0</td>\n",
       "      <td>19.9</td>\n",
       "      <td>27.9</td>\n",
       "      <td>No</td>\n",
       "      <td>No</td>\n",
       "      <td>2011</td>\n",
       "      <td>1</td>\n",
       "      <td>4</td>\n",
       "    </tr>\n",
       "    <tr>\n",
       "      <th>4</th>\n",
       "      <td>2011-01-05</td>\n",
       "      <td>Albury</td>\n",
       "      <td>16.0</td>\n",
       "      <td>28.9</td>\n",
       "      <td>0.0</td>\n",
       "      <td>9999.0</td>\n",
       "      <td>9999.0</td>\n",
       "      <td>SSE</td>\n",
       "      <td>31.0</td>\n",
       "      <td>ENE</td>\n",
       "      <td>...</td>\n",
       "      <td>1004.3</td>\n",
       "      <td>9999.0</td>\n",
       "      <td>9999.0</td>\n",
       "      <td>22.0</td>\n",
       "      <td>26.8</td>\n",
       "      <td>No</td>\n",
       "      <td>No</td>\n",
       "      <td>2011</td>\n",
       "      <td>1</td>\n",
       "      <td>5</td>\n",
       "    </tr>\n",
       "  </tbody>\n",
       "</table>\n",
       "<p>5 rows × 26 columns</p>\n",
       "</div>"
      ],
      "text/plain": [
       "         date location  mintemp  maxtemp  rainfall  evaporation  sunshine  \\\n",
       "0  2011-01-01   Albury     23.2     35.8       0.0       9999.0    9999.0   \n",
       "1  2011-01-02   Albury     20.1     31.1       0.6       9999.0    9999.0   \n",
       "2  2011-01-03   Albury     13.6     29.4       0.0       9999.0    9999.0   \n",
       "3  2011-01-04   Albury     13.9     29.2       0.0       9999.0    9999.0   \n",
       "4  2011-01-05   Albury     16.0     28.9       0.0       9999.0    9999.0   \n",
       "\n",
       "  windgustdir  windgustspeed winddir9am  ... pressure3pm  cloud9am  cloud3pm  \\\n",
       "0         ENE           26.0          S  ...      1009.2    9999.0    9999.0   \n",
       "1           W           35.0         SW  ...      1009.5    9999.0    9999.0   \n",
       "2         WNW           35.0        SSE  ...      1009.3    9999.0    9999.0   \n",
       "3         SSE           24.0         SE  ...      1007.8    9999.0    9999.0   \n",
       "4         SSE           31.0        ENE  ...      1004.3    9999.0    9999.0   \n",
       "\n",
       "   temp9am  temp3pm  raintoday  raintomorrow  year  month  day  \n",
       "0     26.8     32.8         No            No  2011      1    1  \n",
       "1     25.1     30.2         No            No  2011      1    2  \n",
       "2     20.2     28.4         No            No  2011      1    3  \n",
       "3     19.9     27.9         No            No  2011      1    4  \n",
       "4     22.0     26.8         No            No  2011      1    5  \n",
       "\n",
       "[5 rows x 26 columns]"
      ]
     },
     "execution_count": 67,
     "metadata": {},
     "output_type": "execute_result"
    }
   ],
   "source": [
    "# import data from AWS RDS Database\n",
    "\n",
    "\n",
    "conn_string = \"host=\"+cfg.PGHOST +\" port=\"+ \"5432\" +\" dbname=\"+ cfg.PGDATABASE +\" user=\" + cfg.PGUSER \\\n",
    "                  +\" password=\"+ cfg.PGPASSWORD\n",
    "    \n",
    "conn = psycopg2.connect(conn_string)\n",
    "cur = conn.cursor()\n",
    "\n",
    "df = pd.read_sql_query('select * from weather_aus_raw where year >=2011 and year <= 2016',  conn)\n",
    "df.head()"
   ]
  },
  {
   "cell_type": "markdown",
   "id": "7c4a1620",
   "metadata": {},
   "source": [
    "## Review the Data"
   ]
  },
  {
   "cell_type": "code",
   "execution_count": 68,
   "id": "ec62ae37",
   "metadata": {},
   "outputs": [
    {
     "data": {
      "text/plain": [
       "(100935, 26)"
      ]
     },
     "execution_count": 68,
     "metadata": {},
     "output_type": "execute_result"
    }
   ],
   "source": [
    "df.shape"
   ]
  },
  {
   "cell_type": "code",
   "execution_count": 69,
   "id": "2273a3a5",
   "metadata": {},
   "outputs": [
    {
     "data": {
      "text/plain": [
       "date              object\n",
       "location          object\n",
       "mintemp          float64\n",
       "maxtemp          float64\n",
       "rainfall         float64\n",
       "evaporation      float64\n",
       "sunshine         float64\n",
       "windgustdir       object\n",
       "windgustspeed    float64\n",
       "winddir9am        object\n",
       "winddir3pm        object\n",
       "windspeed9am     float64\n",
       "windspeed3pm     float64\n",
       "humidity9am      float64\n",
       "humidity3pm      float64\n",
       "pressure9am      float64\n",
       "pressure3pm      float64\n",
       "cloud9am         float64\n",
       "cloud3pm         float64\n",
       "temp9am          float64\n",
       "temp3pm          float64\n",
       "raintoday         object\n",
       "raintomorrow      object\n",
       "year               int64\n",
       "month              int64\n",
       "day                int64\n",
       "dtype: object"
      ]
     },
     "execution_count": 69,
     "metadata": {},
     "output_type": "execute_result"
    }
   ],
   "source": [
    "# Check Datatypes\n",
    "\n",
    "df.dtypes"
   ]
  },
  {
   "cell_type": "code",
   "execution_count": 70,
   "id": "3556c453",
   "metadata": {},
   "outputs": [
    {
     "data": {
      "text/plain": [
       "date             100935\n",
       "location         100935\n",
       "mintemp          100935\n",
       "maxtemp          100935\n",
       "rainfall         100935\n",
       "evaporation      100935\n",
       "sunshine         100935\n",
       "windgustdir      100935\n",
       "windgustspeed    100935\n",
       "winddir9am       100935\n",
       "winddir3pm       100935\n",
       "windspeed9am     100935\n",
       "windspeed3pm     100935\n",
       "humidity9am      100935\n",
       "humidity3pm      100935\n",
       "pressure9am      100935\n",
       "pressure3pm      100935\n",
       "cloud9am         100935\n",
       "cloud3pm         100935\n",
       "temp9am          100935\n",
       "temp3pm          100935\n",
       "raintoday        100935\n",
       "raintomorrow     100935\n",
       "year             100935\n",
       "month            100935\n",
       "day              100935\n",
       "dtype: int64"
      ]
     },
     "execution_count": 70,
     "metadata": {},
     "output_type": "execute_result"
    }
   ],
   "source": [
    "df.isna().count()"
   ]
  },
  {
   "cell_type": "code",
   "execution_count": 71,
   "id": "2eecb6f8",
   "metadata": {},
   "outputs": [
    {
     "data": {
      "text/plain": [
       "49"
      ]
     },
     "execution_count": 71,
     "metadata": {},
     "output_type": "execute_result"
    }
   ],
   "source": [
    "df['location'].nunique()"
   ]
  },
  {
   "cell_type": "markdown",
   "id": "dc242061",
   "metadata": {},
   "source": [
    "## Check if Bucketing Required\n",
    "#### we will skip binning for this dataset"
   ]
  },
  {
   "cell_type": "code",
   "execution_count": 72,
   "id": "77411f01",
   "metadata": {},
   "outputs": [
    {
     "data": {
      "text/plain": [
       "2016    17934\n",
       "2014    17885\n",
       "2015    17885\n",
       "2013    16415\n",
       "2012    15409\n",
       "2011    15407\n",
       "Name: year, dtype: int64"
      ]
     },
     "execution_count": 72,
     "metadata": {},
     "output_type": "execute_result"
    }
   ],
   "source": [
    "# Check the unique value counts to see if binning is required\n",
    "df.year.value_counts()"
   ]
  },
  {
   "cell_type": "code",
   "execution_count": 73,
   "id": "e83e8df9",
   "metadata": {},
   "outputs": [],
   "source": [
    "# Check the unique value counts to see if binning is required\n",
    "#df.location.value_counts()"
   ]
  },
  {
   "cell_type": "markdown",
   "id": "86f0e8ca",
   "metadata": {},
   "source": [
    "## Update \"RainTomorrow\" and \"RainToday\" Columns to Binary Values"
   ]
  },
  {
   "cell_type": "code",
   "execution_count": 74,
   "id": "f42b3f8e",
   "metadata": {},
   "outputs": [
    {
     "data": {
      "text/plain": [
       "No      76426\n",
       "Yes     21980\n",
       "9999     2529\n",
       "Name: raintomorrow, dtype: int64"
      ]
     },
     "execution_count": 74,
     "metadata": {},
     "output_type": "execute_result"
    }
   ],
   "source": [
    "df['raintomorrow'].value_counts()"
   ]
  },
  {
   "cell_type": "code",
   "execution_count": 75,
   "id": "540e8806",
   "metadata": {},
   "outputs": [
    {
     "data": {
      "text/plain": [
       "No      76427\n",
       "Yes     21979\n",
       "9999     2529\n",
       "Name: raintoday, dtype: int64"
      ]
     },
     "execution_count": 75,
     "metadata": {},
     "output_type": "execute_result"
    }
   ],
   "source": [
    "df['raintoday'].value_counts()"
   ]
  },
  {
   "cell_type": "code",
   "execution_count": 76,
   "id": "059860d0",
   "metadata": {},
   "outputs": [
    {
     "data": {
      "text/plain": [
       "0    78955\n",
       "1    21980\n",
       "Name: raintomorrow, dtype: int64"
      ]
     },
     "execution_count": 76,
     "metadata": {},
     "output_type": "execute_result"
    }
   ],
   "source": [
    "df['raintomorrow'] = df.raintomorrow.eq('Yes').mul(1)\n",
    "df['raintomorrow'].value_counts()"
   ]
  },
  {
   "cell_type": "code",
   "execution_count": 77,
   "id": "9410854b",
   "metadata": {},
   "outputs": [
    {
     "data": {
      "text/plain": [
       "0    78956\n",
       "1    21979\n",
       "Name: raintoday, dtype: int64"
      ]
     },
     "execution_count": 77,
     "metadata": {},
     "output_type": "execute_result"
    }
   ],
   "source": [
    "df['raintoday'] = df.raintoday.eq('Yes').mul(1)\n",
    "df['raintoday'].value_counts()"
   ]
  },
  {
   "cell_type": "markdown",
   "id": "bc420aa7",
   "metadata": {},
   "source": [
    "## Drop Columns Not Needed for Machine Learning Model"
   ]
  },
  {
   "cell_type": "code",
   "execution_count": 78,
   "id": "efa4c6bd",
   "metadata": {},
   "outputs": [],
   "source": [
    "columns =  ['date']\n",
    "df = df.drop(columns, axis=1)"
   ]
  },
  {
   "cell_type": "code",
   "execution_count": 79,
   "id": "37c20188",
   "metadata": {},
   "outputs": [
    {
     "name": "stdout",
     "output_type": "stream",
     "text": [
      "(100935, 25)\n"
     ]
    },
    {
     "data": {
      "text/html": [
       "<div>\n",
       "<style scoped>\n",
       "    .dataframe tbody tr th:only-of-type {\n",
       "        vertical-align: middle;\n",
       "    }\n",
       "\n",
       "    .dataframe tbody tr th {\n",
       "        vertical-align: top;\n",
       "    }\n",
       "\n",
       "    .dataframe thead th {\n",
       "        text-align: right;\n",
       "    }\n",
       "</style>\n",
       "<table border=\"1\" class=\"dataframe\">\n",
       "  <thead>\n",
       "    <tr style=\"text-align: right;\">\n",
       "      <th></th>\n",
       "      <th>location</th>\n",
       "      <th>mintemp</th>\n",
       "      <th>maxtemp</th>\n",
       "      <th>rainfall</th>\n",
       "      <th>evaporation</th>\n",
       "      <th>sunshine</th>\n",
       "      <th>windgustdir</th>\n",
       "      <th>windgustspeed</th>\n",
       "      <th>winddir9am</th>\n",
       "      <th>winddir3pm</th>\n",
       "      <th>...</th>\n",
       "      <th>pressure3pm</th>\n",
       "      <th>cloud9am</th>\n",
       "      <th>cloud3pm</th>\n",
       "      <th>temp9am</th>\n",
       "      <th>temp3pm</th>\n",
       "      <th>raintoday</th>\n",
       "      <th>raintomorrow</th>\n",
       "      <th>year</th>\n",
       "      <th>month</th>\n",
       "      <th>day</th>\n",
       "    </tr>\n",
       "  </thead>\n",
       "  <tbody>\n",
       "    <tr>\n",
       "      <th>0</th>\n",
       "      <td>Albury</td>\n",
       "      <td>23.2</td>\n",
       "      <td>35.8</td>\n",
       "      <td>0.0</td>\n",
       "      <td>9999.0</td>\n",
       "      <td>9999.0</td>\n",
       "      <td>ENE</td>\n",
       "      <td>26.0</td>\n",
       "      <td>S</td>\n",
       "      <td>WSW</td>\n",
       "      <td>...</td>\n",
       "      <td>1009.2</td>\n",
       "      <td>9999.0</td>\n",
       "      <td>9999.0</td>\n",
       "      <td>26.8</td>\n",
       "      <td>32.8</td>\n",
       "      <td>0</td>\n",
       "      <td>0</td>\n",
       "      <td>2011</td>\n",
       "      <td>1</td>\n",
       "      <td>1</td>\n",
       "    </tr>\n",
       "    <tr>\n",
       "      <th>1</th>\n",
       "      <td>Albury</td>\n",
       "      <td>20.1</td>\n",
       "      <td>31.1</td>\n",
       "      <td>0.6</td>\n",
       "      <td>9999.0</td>\n",
       "      <td>9999.0</td>\n",
       "      <td>W</td>\n",
       "      <td>35.0</td>\n",
       "      <td>SW</td>\n",
       "      <td>WSW</td>\n",
       "      <td>...</td>\n",
       "      <td>1009.5</td>\n",
       "      <td>9999.0</td>\n",
       "      <td>9999.0</td>\n",
       "      <td>25.1</td>\n",
       "      <td>30.2</td>\n",
       "      <td>0</td>\n",
       "      <td>0</td>\n",
       "      <td>2011</td>\n",
       "      <td>1</td>\n",
       "      <td>2</td>\n",
       "    </tr>\n",
       "    <tr>\n",
       "      <th>2</th>\n",
       "      <td>Albury</td>\n",
       "      <td>13.6</td>\n",
       "      <td>29.4</td>\n",
       "      <td>0.0</td>\n",
       "      <td>9999.0</td>\n",
       "      <td>9999.0</td>\n",
       "      <td>WNW</td>\n",
       "      <td>35.0</td>\n",
       "      <td>SSE</td>\n",
       "      <td>WNW</td>\n",
       "      <td>...</td>\n",
       "      <td>1009.3</td>\n",
       "      <td>9999.0</td>\n",
       "      <td>9999.0</td>\n",
       "      <td>20.2</td>\n",
       "      <td>28.4</td>\n",
       "      <td>0</td>\n",
       "      <td>0</td>\n",
       "      <td>2011</td>\n",
       "      <td>1</td>\n",
       "      <td>3</td>\n",
       "    </tr>\n",
       "    <tr>\n",
       "      <th>3</th>\n",
       "      <td>Albury</td>\n",
       "      <td>13.9</td>\n",
       "      <td>29.2</td>\n",
       "      <td>0.0</td>\n",
       "      <td>9999.0</td>\n",
       "      <td>9999.0</td>\n",
       "      <td>SSE</td>\n",
       "      <td>24.0</td>\n",
       "      <td>SE</td>\n",
       "      <td>SE</td>\n",
       "      <td>...</td>\n",
       "      <td>1007.8</td>\n",
       "      <td>9999.0</td>\n",
       "      <td>9999.0</td>\n",
       "      <td>19.9</td>\n",
       "      <td>27.9</td>\n",
       "      <td>0</td>\n",
       "      <td>0</td>\n",
       "      <td>2011</td>\n",
       "      <td>1</td>\n",
       "      <td>4</td>\n",
       "    </tr>\n",
       "    <tr>\n",
       "      <th>4</th>\n",
       "      <td>Albury</td>\n",
       "      <td>16.0</td>\n",
       "      <td>28.9</td>\n",
       "      <td>0.0</td>\n",
       "      <td>9999.0</td>\n",
       "      <td>9999.0</td>\n",
       "      <td>SSE</td>\n",
       "      <td>31.0</td>\n",
       "      <td>ENE</td>\n",
       "      <td>SW</td>\n",
       "      <td>...</td>\n",
       "      <td>1004.3</td>\n",
       "      <td>9999.0</td>\n",
       "      <td>9999.0</td>\n",
       "      <td>22.0</td>\n",
       "      <td>26.8</td>\n",
       "      <td>0</td>\n",
       "      <td>0</td>\n",
       "      <td>2011</td>\n",
       "      <td>1</td>\n",
       "      <td>5</td>\n",
       "    </tr>\n",
       "  </tbody>\n",
       "</table>\n",
       "<p>5 rows × 25 columns</p>\n",
       "</div>"
      ],
      "text/plain": [
       "  location  mintemp  maxtemp  rainfall  evaporation  sunshine windgustdir  \\\n",
       "0   Albury     23.2     35.8       0.0       9999.0    9999.0         ENE   \n",
       "1   Albury     20.1     31.1       0.6       9999.0    9999.0           W   \n",
       "2   Albury     13.6     29.4       0.0       9999.0    9999.0         WNW   \n",
       "3   Albury     13.9     29.2       0.0       9999.0    9999.0         SSE   \n",
       "4   Albury     16.0     28.9       0.0       9999.0    9999.0         SSE   \n",
       "\n",
       "   windgustspeed winddir9am winddir3pm  ...  pressure3pm  cloud9am  cloud3pm  \\\n",
       "0           26.0          S        WSW  ...       1009.2    9999.0    9999.0   \n",
       "1           35.0         SW        WSW  ...       1009.5    9999.0    9999.0   \n",
       "2           35.0        SSE        WNW  ...       1009.3    9999.0    9999.0   \n",
       "3           24.0         SE         SE  ...       1007.8    9999.0    9999.0   \n",
       "4           31.0        ENE         SW  ...       1004.3    9999.0    9999.0   \n",
       "\n",
       "   temp9am  temp3pm  raintoday  raintomorrow  year  month  day  \n",
       "0     26.8     32.8          0             0  2011      1    1  \n",
       "1     25.1     30.2          0             0  2011      1    2  \n",
       "2     20.2     28.4          0             0  2011      1    3  \n",
       "3     19.9     27.9          0             0  2011      1    4  \n",
       "4     22.0     26.8          0             0  2011      1    5  \n",
       "\n",
       "[5 rows x 25 columns]"
      ]
     },
     "execution_count": 79,
     "metadata": {},
     "output_type": "execute_result"
    }
   ],
   "source": [
    "print(df.shape)\n",
    "df.head()"
   ]
  },
  {
   "cell_type": "markdown",
   "id": "4100035d",
   "metadata": {},
   "source": [
    "## Encode Columns - Use OneHotEncoder"
   ]
  },
  {
   "cell_type": "code",
   "execution_count": 80,
   "id": "cfc4e944",
   "metadata": {},
   "outputs": [
    {
     "data": {
      "text/plain": [
       "['location', 'windgustdir', 'winddir9am', 'winddir3pm']"
      ]
     },
     "execution_count": 80,
     "metadata": {},
     "output_type": "execute_result"
    }
   ],
   "source": [
    "# Generate our categorical variable list\n",
    "df_cat = df.dtypes[df.dtypes == \"object\"].index.tolist()\n",
    "df_cat"
   ]
  },
  {
   "cell_type": "code",
   "execution_count": 81,
   "id": "f5535d95",
   "metadata": {},
   "outputs": [
    {
     "name": "stdout",
     "output_type": "stream",
     "text": [
      "location       49\n",
      "windgustdir    17\n",
      "winddir9am     17\n",
      "winddir3pm     17\n",
      "dtype: int64\n",
      "(100935, 25)\n"
     ]
    },
    {
     "data": {
      "text/html": [
       "<div>\n",
       "<style scoped>\n",
       "    .dataframe tbody tr th:only-of-type {\n",
       "        vertical-align: middle;\n",
       "    }\n",
       "\n",
       "    .dataframe tbody tr th {\n",
       "        vertical-align: top;\n",
       "    }\n",
       "\n",
       "    .dataframe thead th {\n",
       "        text-align: right;\n",
       "    }\n",
       "</style>\n",
       "<table border=\"1\" class=\"dataframe\">\n",
       "  <thead>\n",
       "    <tr style=\"text-align: right;\">\n",
       "      <th></th>\n",
       "      <th>location</th>\n",
       "      <th>mintemp</th>\n",
       "      <th>maxtemp</th>\n",
       "      <th>rainfall</th>\n",
       "      <th>evaporation</th>\n",
       "      <th>sunshine</th>\n",
       "      <th>windgustdir</th>\n",
       "      <th>windgustspeed</th>\n",
       "      <th>winddir9am</th>\n",
       "      <th>winddir3pm</th>\n",
       "      <th>...</th>\n",
       "      <th>pressure3pm</th>\n",
       "      <th>cloud9am</th>\n",
       "      <th>cloud3pm</th>\n",
       "      <th>temp9am</th>\n",
       "      <th>temp3pm</th>\n",
       "      <th>raintoday</th>\n",
       "      <th>raintomorrow</th>\n",
       "      <th>year</th>\n",
       "      <th>month</th>\n",
       "      <th>day</th>\n",
       "    </tr>\n",
       "  </thead>\n",
       "  <tbody>\n",
       "    <tr>\n",
       "      <th>0</th>\n",
       "      <td>Albury</td>\n",
       "      <td>23.2</td>\n",
       "      <td>35.8</td>\n",
       "      <td>0.0</td>\n",
       "      <td>9999.0</td>\n",
       "      <td>9999.0</td>\n",
       "      <td>ENE</td>\n",
       "      <td>26.0</td>\n",
       "      <td>S</td>\n",
       "      <td>WSW</td>\n",
       "      <td>...</td>\n",
       "      <td>1009.2</td>\n",
       "      <td>9999.0</td>\n",
       "      <td>9999.0</td>\n",
       "      <td>26.8</td>\n",
       "      <td>32.8</td>\n",
       "      <td>0</td>\n",
       "      <td>0</td>\n",
       "      <td>2011</td>\n",
       "      <td>1</td>\n",
       "      <td>1</td>\n",
       "    </tr>\n",
       "    <tr>\n",
       "      <th>1</th>\n",
       "      <td>Albury</td>\n",
       "      <td>20.1</td>\n",
       "      <td>31.1</td>\n",
       "      <td>0.6</td>\n",
       "      <td>9999.0</td>\n",
       "      <td>9999.0</td>\n",
       "      <td>W</td>\n",
       "      <td>35.0</td>\n",
       "      <td>SW</td>\n",
       "      <td>WSW</td>\n",
       "      <td>...</td>\n",
       "      <td>1009.5</td>\n",
       "      <td>9999.0</td>\n",
       "      <td>9999.0</td>\n",
       "      <td>25.1</td>\n",
       "      <td>30.2</td>\n",
       "      <td>0</td>\n",
       "      <td>0</td>\n",
       "      <td>2011</td>\n",
       "      <td>1</td>\n",
       "      <td>2</td>\n",
       "    </tr>\n",
       "    <tr>\n",
       "      <th>2</th>\n",
       "      <td>Albury</td>\n",
       "      <td>13.6</td>\n",
       "      <td>29.4</td>\n",
       "      <td>0.0</td>\n",
       "      <td>9999.0</td>\n",
       "      <td>9999.0</td>\n",
       "      <td>WNW</td>\n",
       "      <td>35.0</td>\n",
       "      <td>SSE</td>\n",
       "      <td>WNW</td>\n",
       "      <td>...</td>\n",
       "      <td>1009.3</td>\n",
       "      <td>9999.0</td>\n",
       "      <td>9999.0</td>\n",
       "      <td>20.2</td>\n",
       "      <td>28.4</td>\n",
       "      <td>0</td>\n",
       "      <td>0</td>\n",
       "      <td>2011</td>\n",
       "      <td>1</td>\n",
       "      <td>3</td>\n",
       "    </tr>\n",
       "    <tr>\n",
       "      <th>3</th>\n",
       "      <td>Albury</td>\n",
       "      <td>13.9</td>\n",
       "      <td>29.2</td>\n",
       "      <td>0.0</td>\n",
       "      <td>9999.0</td>\n",
       "      <td>9999.0</td>\n",
       "      <td>SSE</td>\n",
       "      <td>24.0</td>\n",
       "      <td>SE</td>\n",
       "      <td>SE</td>\n",
       "      <td>...</td>\n",
       "      <td>1007.8</td>\n",
       "      <td>9999.0</td>\n",
       "      <td>9999.0</td>\n",
       "      <td>19.9</td>\n",
       "      <td>27.9</td>\n",
       "      <td>0</td>\n",
       "      <td>0</td>\n",
       "      <td>2011</td>\n",
       "      <td>1</td>\n",
       "      <td>4</td>\n",
       "    </tr>\n",
       "    <tr>\n",
       "      <th>4</th>\n",
       "      <td>Albury</td>\n",
       "      <td>16.0</td>\n",
       "      <td>28.9</td>\n",
       "      <td>0.0</td>\n",
       "      <td>9999.0</td>\n",
       "      <td>9999.0</td>\n",
       "      <td>SSE</td>\n",
       "      <td>31.0</td>\n",
       "      <td>ENE</td>\n",
       "      <td>SW</td>\n",
       "      <td>...</td>\n",
       "      <td>1004.3</td>\n",
       "      <td>9999.0</td>\n",
       "      <td>9999.0</td>\n",
       "      <td>22.0</td>\n",
       "      <td>26.8</td>\n",
       "      <td>0</td>\n",
       "      <td>0</td>\n",
       "      <td>2011</td>\n",
       "      <td>1</td>\n",
       "      <td>5</td>\n",
       "    </tr>\n",
       "  </tbody>\n",
       "</table>\n",
       "<p>5 rows × 25 columns</p>\n",
       "</div>"
      ],
      "text/plain": [
       "  location  mintemp  maxtemp  rainfall  evaporation  sunshine windgustdir  \\\n",
       "0   Albury     23.2     35.8       0.0       9999.0    9999.0         ENE   \n",
       "1   Albury     20.1     31.1       0.6       9999.0    9999.0           W   \n",
       "2   Albury     13.6     29.4       0.0       9999.0    9999.0         WNW   \n",
       "3   Albury     13.9     29.2       0.0       9999.0    9999.0         SSE   \n",
       "4   Albury     16.0     28.9       0.0       9999.0    9999.0         SSE   \n",
       "\n",
       "   windgustspeed winddir9am winddir3pm  ...  pressure3pm  cloud9am  cloud3pm  \\\n",
       "0           26.0          S        WSW  ...       1009.2    9999.0    9999.0   \n",
       "1           35.0         SW        WSW  ...       1009.5    9999.0    9999.0   \n",
       "2           35.0        SSE        WNW  ...       1009.3    9999.0    9999.0   \n",
       "3           24.0         SE         SE  ...       1007.8    9999.0    9999.0   \n",
       "4           31.0        ENE         SW  ...       1004.3    9999.0    9999.0   \n",
       "\n",
       "   temp9am  temp3pm  raintoday  raintomorrow  year  month  day  \n",
       "0     26.8     32.8          0             0  2011      1    1  \n",
       "1     25.1     30.2          0             0  2011      1    2  \n",
       "2     20.2     28.4          0             0  2011      1    3  \n",
       "3     19.9     27.9          0             0  2011      1    4  \n",
       "4     22.0     26.8          0             0  2011      1    5  \n",
       "\n",
       "[5 rows x 25 columns]"
      ]
     },
     "execution_count": 81,
     "metadata": {},
     "output_type": "execute_result"
    }
   ],
   "source": [
    "print(df[df_cat].nunique())\n",
    "print(df.shape)\n",
    "df.head()"
   ]
  },
  {
   "cell_type": "code",
   "execution_count": 82,
   "id": "e6e03f28",
   "metadata": {},
   "outputs": [
    {
     "name": "stdout",
     "output_type": "stream",
     "text": [
      "(100935, 100)\n"
     ]
    }
   ],
   "source": [
    "# Create the OneHotEncoder instance\n",
    "from sklearn.preprocessing import OneHotEncoder\n",
    "enc = OneHotEncoder(sparse=False)\n",
    "\n",
    "# Fit the encoder and produce encoded DataFrame\n",
    "encode_df = pd.DataFrame(enc.fit_transform(df[df_cat]))\n",
    "\n",
    "# Rename encoded columns\n",
    "encode_df.columns = enc.get_feature_names(df_cat)\n",
    "encode_df.head()\n",
    "print(encode_df.shape)\n"
   ]
  },
  {
   "cell_type": "code",
   "execution_count": null,
   "id": "63884474",
   "metadata": {},
   "outputs": [],
   "source": [
    "# Merge one-hot encoded features and drop the originals\n",
    "df = df.merge(encode_df,left_index=True, right_index=True)\n",
    "df = df.drop(df_cat, axis=1)\n",
    "df.head()"
   ]
  },
  {
   "cell_type": "code",
   "execution_count": null,
   "id": "8f8f1f5a",
   "metadata": {},
   "outputs": [],
   "source": [
    "df.columns"
   ]
  },
  {
   "cell_type": "code",
   "execution_count": null,
   "id": "3e1816ef",
   "metadata": {},
   "outputs": [],
   "source": [
    "print(df.shape)\n",
    "df.head()"
   ]
  },
  {
   "cell_type": "markdown",
   "id": "f97caf1f",
   "metadata": {},
   "source": [
    "## Variable Declaration and Split into Test/Train"
   ]
  },
  {
   "cell_type": "code",
   "execution_count": null,
   "id": "78f91a35",
   "metadata": {},
   "outputs": [],
   "source": [
    "# define Target Variable\n",
    "X = df.copy()\n",
    "X = X.drop(\"raintomorrow\", axis=1)\n",
    "y = df[\"raintomorrow\"]\n",
    "\n",
    "# Split training/test datasets\n",
    "X_train, X_test, y_train, y_test = train_test_split(X, y, random_state=42, stratify=y, train_size = 0.8)"
   ]
  },
  {
   "cell_type": "code",
   "execution_count": null,
   "id": "6b334634",
   "metadata": {},
   "outputs": [],
   "source": [
    "print(len(X_train))\n",
    "print(len(X_test))"
   ]
  },
  {
   "cell_type": "markdown",
   "id": "89443ea5",
   "metadata": {},
   "source": [
    "## Scale the Data\n",
    "#### We will use standard scaler for the model"
   ]
  },
  {
   "cell_type": "code",
   "execution_count": null,
   "id": "50d67c2e",
   "metadata": {},
   "outputs": [],
   "source": [
    "from sklearn.preprocessing import StandardScaler\n",
    "\n",
    "# Create an instance of StandardScaler\n",
    "scaler = StandardScaler()\n",
    "\n",
    "# Fit the StandardScaler\n",
    "X_scaler = scaler.fit(X_train)\n",
    "\n",
    "# Scale the data\n",
    "X_train_scaled = X_scaler.transform(X_train)\n",
    "X_test_scaled = X_scaler.transform(X_test)"
   ]
  },
  {
   "cell_type": "markdown",
   "id": "cc8f733d",
   "metadata": {},
   "source": [
    "## Handle Class Imbalance\n",
    "\n",
    "#### We decided to use Random Oversampling method because of the following reasons:\n",
    "- SMOTE can be heavily influenced by outliers. \n",
    "- Undersampling causes loss of data and even though the dataset reasonably sized, we did not feel comfortable using undersampling\n",
    "- Random Oversampling produced the highest precision score compared to SMOTE and SMOTEENN"
   ]
  },
  {
   "cell_type": "code",
   "execution_count": null,
   "id": "e02c04fc",
   "metadata": {},
   "outputs": [],
   "source": [
    "import matplotlib.pyplot as plt\n",
    "fig = plt.figure(figsize = (8,5))\n",
    "df.raintomorrow.value_counts(normalize = True).plot(kind='bar', color= ['mediumpurple','thistle'], alpha = 0.8, rot=0)\n",
    "plt.title('RainTomorrow - 0-No and 1-Yes')\n",
    "plt.show()"
   ]
  },
  {
   "cell_type": "code",
   "execution_count": null,
   "id": "632ad4d0",
   "metadata": {},
   "outputs": [],
   "source": [
    "# Resample the training data with the RandomOversampler\n",
    "from collections import Counter\n",
    "\n",
    "from imblearn.over_sampling import RandomOverSampler\n",
    "ros = RandomOverSampler(random_state=1)\n",
    "X_resampled, y_resampled = ros.fit_resample(X_train_scaled, y_train)\n",
    "\n",
    "\n",
    "Counter(y_resampled)"
   ]
  },
  {
   "cell_type": "markdown",
   "id": "8e25ae1a",
   "metadata": {},
   "source": [
    "##  Balanced Random Forest"
   ]
  },
  {
   "cell_type": "code",
   "execution_count": null,
   "id": "c68731c4",
   "metadata": {},
   "outputs": [],
   "source": [
    "# Create a random forest classifier.\n",
    "\n",
    "from imblearn.ensemble import BalancedRandomForestClassifier\n",
    "rf_model = BalancedRandomForestClassifier(n_estimators=128, random_state=42) \n",
    "\n",
    "# Fitting the model\n",
    "rf_model = rf_model.fit(X_resampled, y_resampled)\n",
    "\n",
    "# Making predictions using the testing data.\n",
    "y_pred = rf_model.predict(X_test_scaled)\n",
    "\n"
   ]
  },
  {
   "cell_type": "markdown",
   "id": "05aa0616",
   "metadata": {},
   "source": [
    "### Model Validation\n",
    "\n",
    "#### For this model, precision is more important to predict rainfall (as opposed to sensitivity) in order to accurately plan for droughts. Accuracy score is not an appropriate metrics for this model. We will use the following instead:\n",
    "\n",
    "- Confusion Matrix\n",
    "- Classification Report\n",
    "\n"
   ]
  },
  {
   "cell_type": "code",
   "execution_count": null,
   "id": "119b6989",
   "metadata": {},
   "outputs": [],
   "source": [
    "# Calculating the confusion matrix.\n",
    "cm = confusion_matrix(y_test, y_pred)\n",
    "\n",
    "# Create a DataFrame from the confusion matrix.\n",
    "cm_df = pd.DataFrame(\n",
    "    cm, index=[\"Actual 0\", \"Actual 1\"], columns=[\"Predicted 0\", \"Predicted 1\"])\n",
    "\n",
    "cm_df"
   ]
  },
  {
   "cell_type": "code",
   "execution_count": null,
   "id": "c0568a83",
   "metadata": {},
   "outputs": [],
   "source": [
    "# Print the imbalanced classification report\n",
    "print(classification_report_imbalanced(y_test, y_pred))"
   ]
  },
  {
   "cell_type": "code",
   "execution_count": null,
   "id": "e381b3cb",
   "metadata": {},
   "outputs": [],
   "source": [
    "# Calculated the balanced accuracy score\n",
    "# YOUR CODE HERE\n",
    "balanced_accuracy_score(y_test, y_pred)"
   ]
  },
  {
   "cell_type": "markdown",
   "id": "9dafe20a",
   "metadata": {},
   "source": [
    "### Feature Importance"
   ]
  },
  {
   "cell_type": "code",
   "execution_count": null,
   "id": "2903d7d6",
   "metadata": {},
   "outputs": [],
   "source": [
    "# List the features sorted in descending order by feature importance\n",
    "importances = rf_model.feature_importances_\n",
    "for importance, feat in sorted(zip(rf_model.feature_importances_, X.columns), reverse=True):\n",
    "    print(f'{feat}: ({importance})')"
   ]
  },
  {
   "cell_type": "markdown",
   "id": "d323cba6",
   "metadata": {},
   "source": [
    "## Gradient Boosting"
   ]
  },
  {
   "cell_type": "code",
   "execution_count": null,
   "id": "da6206fd",
   "metadata": {},
   "outputs": [],
   "source": [
    "from sklearn.ensemble import GradientBoostingClassifier\n",
    "classifier_gb = GradientBoostingClassifier()\n",
    "classifier_gb.fit(X_resampled, y_resampled)\n",
    "y_gb=classifier_gb.predict(X_test_scaled)\n",
    "print(classification_report_imbalanced(y_test, y_gb))\n",
    "print('Accuracy Score : ',balanced_accuracy_score(y_test, y_gb))"
   ]
  },
  {
   "cell_type": "code",
   "execution_count": null,
   "id": "b8b01243",
   "metadata": {},
   "outputs": [],
   "source": []
  },
  {
   "cell_type": "code",
   "execution_count": null,
   "id": "d5fdec38",
   "metadata": {},
   "outputs": [],
   "source": []
  }
 ],
 "metadata": {
  "kernelspec": {
   "display_name": "mlenv",
   "language": "python",
   "name": "mlenv"
  },
  "language_info": {
   "codemirror_mode": {
    "name": "ipython",
    "version": 3
   },
   "file_extension": ".py",
   "mimetype": "text/x-python",
   "name": "python",
   "nbconvert_exporter": "python",
   "pygments_lexer": "ipython3",
   "version": "3.7.10"
  }
 },
 "nbformat": 4,
 "nbformat_minor": 5
}
